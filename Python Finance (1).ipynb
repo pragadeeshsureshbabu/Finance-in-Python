{
 "cells": [
  {
   "cell_type": "code",
   "execution_count": 1,
   "metadata": {},
   "outputs": [],
   "source": [
    "import pandas as pd\n",
    "import numpy as np\n",
    "import datetime\n",
    "import matplotlib.pyplot as plt\n",
    "%matplotlib inline"
   ]
  },
  {
   "cell_type": "code",
   "execution_count": 2,
   "metadata": {},
   "outputs": [
    {
     "data": {
      "text/html": [
       "<div>\n",
       "<style scoped>\n",
       "    .dataframe tbody tr th:only-of-type {\n",
       "        vertical-align: middle;\n",
       "    }\n",
       "\n",
       "    .dataframe tbody tr th {\n",
       "        vertical-align: top;\n",
       "    }\n",
       "\n",
       "    .dataframe thead th {\n",
       "        text-align: right;\n",
       "    }\n",
       "</style>\n",
       "<table border=\"1\" class=\"dataframe\">\n",
       "  <thead>\n",
       "    <tr style=\"text-align: right;\">\n",
       "      <th></th>\n",
       "      <th>Open</th>\n",
       "      <th>High</th>\n",
       "      <th>Low</th>\n",
       "      <th>Close</th>\n",
       "      <th>Volume</th>\n",
       "      <th>Ex-Dividend</th>\n",
       "      <th>Split Ratio</th>\n",
       "      <th>Adj. Open</th>\n",
       "      <th>Adj. High</th>\n",
       "      <th>Adj. Low</th>\n",
       "      <th>Adj. Close</th>\n",
       "      <th>Adj. Volume</th>\n",
       "    </tr>\n",
       "    <tr>\n",
       "      <th>Date</th>\n",
       "      <th></th>\n",
       "      <th></th>\n",
       "      <th></th>\n",
       "      <th></th>\n",
       "      <th></th>\n",
       "      <th></th>\n",
       "      <th></th>\n",
       "      <th></th>\n",
       "      <th></th>\n",
       "      <th></th>\n",
       "      <th></th>\n",
       "      <th></th>\n",
       "    </tr>\n",
       "  </thead>\n",
       "  <tbody>\n",
       "    <tr>\n",
       "      <th>2013-10-01</th>\n",
       "      <td>478.45</td>\n",
       "      <td>489.14</td>\n",
       "      <td>478.3810</td>\n",
       "      <td>487.96</td>\n",
       "      <td>12638700.0</td>\n",
       "      <td>0.0</td>\n",
       "      <td>1.0</td>\n",
       "      <td>63.226578</td>\n",
       "      <td>64.639248</td>\n",
       "      <td>63.217459</td>\n",
       "      <td>64.483312</td>\n",
       "      <td>88470900.0</td>\n",
       "    </tr>\n",
       "    <tr>\n",
       "      <th>2013-10-02</th>\n",
       "      <td>485.63</td>\n",
       "      <td>491.80</td>\n",
       "      <td>483.7500</td>\n",
       "      <td>489.56</td>\n",
       "      <td>10328000.0</td>\n",
       "      <td>0.0</td>\n",
       "      <td>1.0</td>\n",
       "      <td>64.175406</td>\n",
       "      <td>64.990764</td>\n",
       "      <td>63.926966</td>\n",
       "      <td>64.694750</td>\n",
       "      <td>72296000.0</td>\n",
       "    </tr>\n",
       "    <tr>\n",
       "      <th>2013-10-03</th>\n",
       "      <td>490.51</td>\n",
       "      <td>492.35</td>\n",
       "      <td>480.7387</td>\n",
       "      <td>483.41</td>\n",
       "      <td>11526900.0</td>\n",
       "      <td>0.0</td>\n",
       "      <td>1.0</td>\n",
       "      <td>64.820292</td>\n",
       "      <td>65.063445</td>\n",
       "      <td>63.529027</td>\n",
       "      <td>63.882036</td>\n",
       "      <td>80688300.0</td>\n",
       "    </tr>\n",
       "    <tr>\n",
       "      <th>2013-10-04</th>\n",
       "      <td>483.86</td>\n",
       "      <td>484.60</td>\n",
       "      <td>478.6000</td>\n",
       "      <td>483.03</td>\n",
       "      <td>9245300.0</td>\n",
       "      <td>0.0</td>\n",
       "      <td>1.0</td>\n",
       "      <td>63.941502</td>\n",
       "      <td>64.039293</td>\n",
       "      <td>63.246400</td>\n",
       "      <td>63.831819</td>\n",
       "      <td>64717100.0</td>\n",
       "    </tr>\n",
       "    <tr>\n",
       "      <th>2013-10-07</th>\n",
       "      <td>486.56</td>\n",
       "      <td>492.65</td>\n",
       "      <td>485.3500</td>\n",
       "      <td>487.75</td>\n",
       "      <td>11153300.0</td>\n",
       "      <td>0.0</td>\n",
       "      <td>1.0</td>\n",
       "      <td>64.298304</td>\n",
       "      <td>65.103090</td>\n",
       "      <td>64.138404</td>\n",
       "      <td>64.455561</td>\n",
       "      <td>78073100.0</td>\n",
       "    </tr>\n",
       "  </tbody>\n",
       "</table>\n",
       "</div>"
      ],
      "text/plain": [
       "              Open    High       Low   Close      Volume  Ex-Dividend  \\\n",
       "Date                                                                    \n",
       "2013-10-01  478.45  489.14  478.3810  487.96  12638700.0          0.0   \n",
       "2013-10-02  485.63  491.80  483.7500  489.56  10328000.0          0.0   \n",
       "2013-10-03  490.51  492.35  480.7387  483.41  11526900.0          0.0   \n",
       "2013-10-04  483.86  484.60  478.6000  483.03   9245300.0          0.0   \n",
       "2013-10-07  486.56  492.65  485.3500  487.75  11153300.0          0.0   \n",
       "\n",
       "            Split Ratio  Adj. Open  Adj. High   Adj. Low  Adj. Close  \\\n",
       "Date                                                                   \n",
       "2013-10-01          1.0  63.226578  64.639248  63.217459   64.483312   \n",
       "2013-10-02          1.0  64.175406  64.990764  63.926966   64.694750   \n",
       "2013-10-03          1.0  64.820292  65.063445  63.529027   63.882036   \n",
       "2013-10-04          1.0  63.941502  64.039293  63.246400   63.831819   \n",
       "2013-10-07          1.0  64.298304  65.103090  64.138404   64.455561   \n",
       "\n",
       "            Adj. Volume  \n",
       "Date                     \n",
       "2013-10-01   88470900.0  \n",
       "2013-10-02   72296000.0  \n",
       "2013-10-03   80688300.0  \n",
       "2013-10-04   64717100.0  \n",
       "2013-10-07   78073100.0  "
      ]
     },
     "execution_count": 2,
     "metadata": {},
     "output_type": "execute_result"
    }
   ],
   "source": [
    "import quandl \n",
    "aapl = quandl.get(\"WIKI/AAPL\", start_date=\"2013-10-01\", end_date=\"2018-01-01\")\n",
    "aapl.head()"
   ]
  },
  {
   "cell_type": "code",
   "execution_count": 3,
   "metadata": {},
   "outputs": [
    {
     "name": "stdout",
     "output_type": "stream",
     "text": [
      "First rows of November-December 2017\n",
      "               Open    High     Low   Close      Volume  Ex-Dividend  \\\n",
      "Date                                                                   \n",
      "2017-11-01  169.870  169.94  165.61  166.89  33100847.0          0.0   \n",
      "2017-11-02  167.640  168.50  165.28  168.11  32710040.0          0.0   \n",
      "2017-11-03  174.000  174.26  171.12  172.50  58683826.0          0.0   \n",
      "2017-11-06  172.365  174.99  171.72  174.25  34242566.0          0.0   \n",
      "2017-11-07  173.910  175.25  173.60  174.81  23910914.0          0.0   \n",
      "\n",
      "            Split Ratio  Adj. Open  Adj. High  Adj. Low  Adj. Close  \\\n",
      "Date                                                                  \n",
      "2017-11-01          1.0    169.870     169.94    165.61      166.89   \n",
      "2017-11-02          1.0    167.640     168.50    165.28      168.11   \n",
      "2017-11-03          1.0    174.000     174.26    171.12      172.50   \n",
      "2017-11-06          1.0    172.365     174.99    171.72      174.25   \n",
      "2017-11-07          1.0    173.910     175.25    173.60      174.81   \n",
      "\n",
      "            Adj. Volume  \n",
      "Date                     \n",
      "2017-11-01   33100847.0  \n",
      "2017-11-02   32710040.0  \n",
      "2017-11-03   58683826.0  \n",
      "2017-11-06   34242566.0  \n",
      "2017-11-07   23910914.0  \n",
      "\n",
      "First rows of 2017\n",
      "              Open      High     Low   Close      Volume  Ex-Dividend  \\\n",
      "Date                                                                    \n",
      "2017-01-03  115.80  116.3300  114.76  116.15  28781865.0          0.0   \n",
      "2017-01-04  115.85  116.5100  115.75  116.02  21118116.0          0.0   \n",
      "2017-01-05  115.92  116.8642  115.81  116.61  22193587.0          0.0   \n",
      "2017-01-06  116.78  118.1600  116.47  117.91  31751900.0          0.0   \n",
      "2017-01-09  117.95  119.4300  117.94  118.99  33561948.0          0.0   \n",
      "\n",
      "            Split Ratio   Adj. Open   Adj. High    Adj. Low  Adj. Close  \\\n",
      "Date                                                                      \n",
      "2017-01-03          1.0  114.369701  114.893155  113.342546  114.715378   \n",
      "2017-01-04          1.0  114.419083  115.070931  114.320318  114.586983   \n",
      "2017-01-05          1.0  114.488219  115.420756  114.379577  115.169696   \n",
      "2017-01-06          1.0  115.337596  116.700551  115.031425  116.453639   \n",
      "2017-01-09          1.0  116.493145  117.954865  116.483269  117.520300   \n",
      "\n",
      "            Adj. Volume  \n",
      "Date                     \n",
      "2017-01-03   28781865.0  \n",
      "2017-01-04   21118116.0  \n",
      "2017-01-05   22193587.0  \n",
      "2017-01-06   31751900.0  \n",
      "2017-01-09   33561948.0  \n",
      "\n",
      "November2017\n",
      "                Open     High     Low    Close      Volume  Ex-Dividend  \\\n",
      "Date                                                                      \n",
      "2013-10-31  525.0000  527.490  521.27  522.702   9846300.0         0.00   \n",
      "2013-11-01  524.0200  524.800  515.84  520.030   9817500.0         0.00   \n",
      "2013-11-04  521.1000  526.820  518.81  526.750   8736700.0         0.00   \n",
      "2013-11-05  524.5800  528.885  523.00  525.449   9471900.0         0.00   \n",
      "2013-11-06  524.1500  524.860  518.20  520.920   7977700.0         3.05   \n",
      "2013-11-07  519.5800  523.190  512.38  512.492   9379300.0         0.00   \n",
      "2013-11-08  514.5800  521.130  512.59  520.560   9975600.0         0.00   \n",
      "2013-11-11  519.9900  521.670  514.41  519.048   8123300.0         0.00   \n",
      "2013-11-12  517.6700  523.920  517.00  520.010   7295600.0         0.00   \n",
      "2013-11-13  518.0000  522.250  516.96  520.634   7043600.0         0.00   \n",
      "2013-11-14  522.8100  529.280  521.87  528.160  10086400.0         0.00   \n",
      "2013-11-15  526.5800  529.090  524.49  524.991  11354300.0         0.00   \n",
      "2013-11-18  524.9900  527.190  518.20  518.629   8748000.0         0.00   \n",
      "2013-11-19  519.0300  523.380  517.97  519.550   7462100.0         0.00   \n",
      "2013-11-20  519.2300  520.420  514.33  515.000   6925600.0         0.00   \n",
      "2013-11-21  517.6000  521.210  513.67  521.136   9358100.0         0.00   \n",
      "2013-11-22  519.5200  522.160  518.53  519.800   7990200.0         0.00   \n",
      "2013-11-25  521.0200  525.870  521.00  523.740   8189700.0         0.00   \n",
      "2013-11-26  524.1200  536.140  524.00  533.400  14335100.0         0.00   \n",
      "2013-11-27  536.3098  546.000  533.40  545.960  12980300.0         0.00   \n",
      "2013-11-29  549.4800  558.330  547.81  556.070  11361700.0         0.00   \n",
      "\n",
      "            Split Ratio  Adj. Open  Adj. High   Adj. Low  Adj. Close  \\\n",
      "Date                                                                   \n",
      "2013-10-31          1.0  69.378103  69.707153  68.885188   69.074425   \n",
      "2013-11-01          1.0  69.248597  69.351673  68.167620   68.721323   \n",
      "2013-11-04          1.0  68.862723  69.618613  68.560102   69.609363   \n",
      "2013-11-05          1.0  69.322600  69.891501  69.113805   69.437438   \n",
      "2013-11-06          1.0  69.671329  69.765704  68.880440   69.241990   \n",
      "2013-11-07          1.0  69.063873  69.543724  68.106831   68.121719   \n",
      "2013-11-08          1.0  68.399261  69.269903  68.134745   69.194137   \n",
      "2013-11-11          1.0  69.118372  69.341681  68.376664   68.993159   \n",
      "2013-11-12          1.0  68.809991  69.640757  68.720933   69.121030   \n",
      "2013-11-13          1.0  68.853856  69.418776  68.715616   69.203974   \n",
      "2013-11-14          1.0  69.493213  70.353222  69.368266   70.204348   \n",
      "2013-11-15          1.0  69.994331  70.327966  69.716523   69.783117   \n",
      "2013-11-18          1.0  69.782984  70.075414  68.880440   68.937464   \n",
      "2013-11-19          1.0  68.990766  69.568979  68.849868   69.059886   \n",
      "2013-11-20          1.0  69.017350  69.175528  68.366030   68.455088   \n",
      "2013-11-21          1.0  68.800687  69.280537  68.278301   69.270701   \n",
      "2013-11-22          1.0  69.055898  69.406813  68.924305   69.093116   \n",
      "2013-11-25          1.0  69.255282  69.899956  69.252623   69.616831   \n",
      "2013-11-26          1.0  69.667342  71.265070  69.651391   70.900862   \n",
      "2013-11-27          1.0  71.287640  72.575686  70.900862   72.570369   \n",
      "2013-11-29          1.0  73.038256  74.214620  72.816276   73.914215   \n",
      "\n",
      "            Adj. Volume  \n",
      "Date                     \n",
      "2013-10-31   68924100.0  \n",
      "2013-11-01   68722500.0  \n",
      "2013-11-04   61156900.0  \n",
      "2013-11-05   66303300.0  \n",
      "2013-11-06   55843900.0  \n",
      "2013-11-07   65655100.0  \n",
      "2013-11-08   69829200.0  \n",
      "2013-11-11   56863100.0  \n",
      "2013-11-12   51069200.0  \n",
      "2013-11-13   49305200.0  \n",
      "2013-11-14   70604800.0  \n",
      "2013-11-15   79480100.0  \n",
      "2013-11-18   61236000.0  \n",
      "2013-11-19   52234700.0  \n",
      "2013-11-20   48479200.0  \n",
      "2013-11-21   65506700.0  \n",
      "2013-11-22   55931400.0  \n",
      "2013-11-25   57327900.0  \n",
      "2013-11-26  100345700.0  \n",
      "2013-11-27   90862100.0  \n",
      "2013-11-29   79531900.0  \n",
      "             Open    Close\n",
      "Date                      \n",
      "2013-10-31  525.0  522.702\n",
      "2013-12-02  558.0  551.230\n"
     ]
    }
   ],
   "source": [
    "# Inspect the first rows of November-December 2017\n",
    "print(\"First rows of November-December 2017\")\n",
    "print(aapl.loc[pd.Timestamp('2017-11-01'):pd.Timestamp('2017-12-31')].head())\n",
    "                  \n",
    "# Inspect the first rows of 2017 \n",
    "print(\"\\nFirst rows of 2017\")\n",
    "print(aapl.loc['2017'].head())\n",
    "\n",
    "# Inspect November 2017\n",
    "print(\"\\nNovember2017\")\n",
    "print(aapl.iloc[22:43])\n",
    "\n",
    "# Inspect the 'Open' and 'Close' values at 2017-11-01 and 2017-12-01\n",
    "print(aapl.iloc[[22,43], [0, 3]])"
   ]
  },
  {
   "cell_type": "code",
   "execution_count": 4,
   "metadata": {},
   "outputs": [
    {
     "name": "stdout",
     "output_type": "stream",
     "text": [
      "              Open      High      Low   Close      Volume  Ex-Dividend  \\\n",
      "Date                                                                     \n",
      "2015-03-12  122.31  124.9000  121.630  124.45  48362719.0          0.0   \n",
      "2017-10-23  156.89  157.6900  155.500  156.17  21654461.0          0.0   \n",
      "2015-10-26  118.08  118.1300  114.920  115.28  66333781.0          0.0   \n",
      "2014-01-29  503.95  507.3700  498.620  500.75  17957500.0          0.0   \n",
      "2016-10-28  113.87  115.2100  113.450  113.72  37861662.0          0.0   \n",
      "2016-11-18  109.72  110.5400  109.660  110.06  28428917.0          0.0   \n",
      "2016-12-06  109.50  110.3600  109.190  109.95  26195462.0          0.0   \n",
      "2015-06-02  129.86  130.6550  129.320  129.96  33667627.0          0.0   \n",
      "2014-03-06  532.79  534.4399  528.100  530.75   6624600.0          0.0   \n",
      "2017-05-03  145.59  147.4900  144.270  147.06  45142806.0          0.0   \n",
      "2016-10-14  117.88  118.1700  117.130  117.63  35652191.0          0.0   \n",
      "2014-09-19  102.29  102.3500  100.880  100.96  70838500.0          0.0   \n",
      "2015-09-09  113.76  114.0200  109.770  110.15  85010804.0          0.0   \n",
      "2016-11-10  111.09  111.0900  105.830  107.79  57134541.0          0.0   \n",
      "2017-04-25  143.91  144.9000  143.870  144.54  18216472.0          0.0   \n",
      "2014-03-17  527.70  529.9700  525.850  526.74   7126600.0          0.0   \n",
      "2016-01-28   93.79   94.5200   92.390   94.09  55678825.0          0.0   \n",
      "2016-07-20  100.00  100.4600   99.735   99.96  26275968.0          0.0   \n",
      "2017-08-18  157.86  159.5000  156.720  157.50  27012525.0          0.0   \n",
      "2016-04-29   93.99   94.7200   92.510   93.74  68531478.0          0.0   \n",
      "\n",
      "            Split Ratio   Adj. Open   Adj. High    Adj. Low  Adj. Close  \\\n",
      "Date                                                                      \n",
      "2015-03-12          1.0  116.650336  119.120489  116.001802  118.691312   \n",
      "2017-10-23          1.0  156.890000  157.690000  155.500000  156.170000   \n",
      "2015-10-26          1.0  113.594339  113.642440  110.554382  110.900706   \n",
      "2014-01-29          1.0   66.986295   67.440890   66.277818   66.560943   \n",
      "2016-10-28          1.0  111.882885  113.199501  111.470214  111.735503   \n",
      "2016-11-18          1.0  108.364798  109.174669  108.305539  108.700598   \n",
      "2016-12-06          1.0  108.147515  108.996893  107.841344  108.591957   \n",
      "2015-06-02          1.0  124.365125  125.126485  123.847974  124.460894   \n",
      "2014-03-06          1.0   71.241235   71.461849   70.614119   70.968460   \n",
      "2017-05-03          1.0  144.410700  146.295310  143.101393  145.868793   \n",
      "2016-10-14          1.0  115.822908  116.107847  115.085996  115.577270   \n",
      "2014-09-19          1.0   96.757565   96.814320   95.423826   95.499499   \n",
      "2015-09-09          1.0  109.438449  109.688572  105.600022  105.965586   \n",
      "2016-11-10          1.0  109.717876  109.717876  104.522845  106.458636   \n",
      "2017-04-25          1.0  142.744309  143.726289  142.704633  143.369205   \n",
      "2014-03-17          1.0   70.560634   70.864163   70.313263   70.432269   \n",
      "2016-01-28          1.0   90.615085   91.320373   89.262476   90.904929   \n",
      "2016-07-20          1.0   97.728759   98.178311   97.469778   97.689667   \n",
      "2017-08-18          1.0  157.860000  159.500000  156.720000  157.500000   \n",
      "2016-04-29          1.0   91.297138   92.006223   89.859540   91.054300   \n",
      "\n",
      "            Adj. Volume  \n",
      "Date                     \n",
      "2015-03-12   48362719.0  \n",
      "2017-10-23   21654461.0  \n",
      "2015-10-26   66333781.0  \n",
      "2014-01-29  125702500.0  \n",
      "2016-10-28   37861662.0  \n",
      "2016-11-18   28428917.0  \n",
      "2016-12-06   26195462.0  \n",
      "2015-06-02   33667627.0  \n",
      "2014-03-06   46372200.0  \n",
      "2017-05-03   45142806.0  \n",
      "2016-10-14   35652191.0  \n",
      "2014-09-19   70838500.0  \n",
      "2015-09-09   85010804.0  \n",
      "2016-11-10   57134541.0  \n",
      "2017-04-25   18216472.0  \n",
      "2014-03-17   49886200.0  \n",
      "2016-01-28   55678825.0  \n",
      "2016-07-20   26275968.0  \n",
      "2017-08-18   27012525.0  \n",
      "2016-04-29   68531478.0  \n"
     ]
    }
   ],
   "source": [
    "# Sample 20 rows# Sample \n",
    "sample = aapl.sample(20)\n",
    "\n",
    "# Print `sample`\n",
    "print(sample)\n",
    "# Resample to monthly level \n",
    "monthly_aapl = aapl.resample('M')"
   ]
  },
  {
   "cell_type": "code",
   "execution_count": 5,
   "metadata": {},
   "outputs": [],
   "source": [
    "# Add a column `diff` to `aapl` \n",
    "aapl['diff'] = aapl.Open - aapl.Close"
   ]
  },
  {
   "cell_type": "code",
   "execution_count": 6,
   "metadata": {},
   "outputs": [
    {
     "data": {
      "image/png": "[encoded data removed]",
      "text/plain": [
       "<matplotlib.figure.Figure at 0xb1c7748>"
      ]
     },
     "metadata": {},
     "output_type": "display_data"
    }
   ],
   "source": [
    "# Plot the closing prices for `aapl`\n",
    "plt.plot(aapl['Close'])\n",
    "plt.xticks(rotation=90)\n",
    "# Show the plot\n",
    "plt.show()\n"
   ]
  },
  {
   "cell_type": "code",
   "execution_count": 7,
   "metadata": {},
   "outputs": [
    {
     "data": {
      "text/html": [
       "<div>\n",
       "<style scoped>\n",
       "    .dataframe tbody tr th:only-of-type {\n",
       "        vertical-align: middle;\n",
       "    }\n",
       "\n",
       "    .dataframe tbody tr th {\n",
       "        vertical-align: top;\n",
       "    }\n",
       "\n",
       "    .dataframe thead th {\n",
       "        text-align: right;\n",
       "    }\n",
       "</style>\n",
       "<table border=\"1\" class=\"dataframe\">\n",
       "  <thead>\n",
       "    <tr style=\"text-align: right;\">\n",
       "      <th></th>\n",
       "      <th>Close</th>\n",
       "    </tr>\n",
       "    <tr>\n",
       "      <th>Date</th>\n",
       "      <th></th>\n",
       "    </tr>\n",
       "  </thead>\n",
       "  <tbody>\n",
       "    <tr>\n",
       "      <th>2014-01-24</th>\n",
       "      <td>546.07</td>\n",
       "    </tr>\n",
       "    <tr>\n",
       "      <th>2017-05-26</th>\n",
       "      <td>153.61</td>\n",
       "    </tr>\n",
       "    <tr>\n",
       "      <th>2014-09-17</th>\n",
       "      <td>101.58</td>\n",
       "    </tr>\n",
       "    <tr>\n",
       "      <th>2015-10-28</th>\n",
       "      <td>119.27</td>\n",
       "    </tr>\n",
       "    <tr>\n",
       "      <th>2015-08-07</th>\n",
       "      <td>115.52</td>\n",
       "    </tr>\n",
       "  </tbody>\n",
       "</table>\n",
       "</div>"
      ],
      "text/plain": [
       "             Close\n",
       "Date              \n",
       "2014-01-24  546.07\n",
       "2017-05-26  153.61\n",
       "2014-09-17  101.58\n",
       "2015-10-28  119.27\n",
       "2015-08-07  115.52"
      ]
     },
     "execution_count": 7,
     "metadata": {},
     "output_type": "execute_result"
    }
   ],
   "source": [
    "aapl[['Close']].sample(5)"
   ]
  },
  {
   "cell_type": "code",
   "execution_count": 8,
   "metadata": {},
   "outputs": [
    {
     "data": {
      "text/plain": [
       "Date\n",
       "2014-05-27    625.63\n",
       "2014-05-28    624.01\n",
       "2014-05-29    635.38\n",
       "2014-05-30    633.00\n",
       "2014-06-02    628.65\n",
       "2014-06-03    637.54\n",
       "2014-06-04    644.82\n",
       "2014-06-05    647.35\n",
       "2014-06-06    645.57\n",
       "2014-06-09     93.70\n",
       "2014-06-10     94.25\n",
       "2014-06-11     93.86\n",
       "2014-06-12     92.29\n",
       "2014-06-13     91.28\n",
       "2014-06-16     92.20\n",
       "2014-06-17     92.08\n",
       "2014-06-18     92.18\n",
       "Name: Close, dtype: float64"
      ]
     },
     "execution_count": 8,
     "metadata": {},
     "output_type": "execute_result"
    }
   ],
   "source": [
    "aapl.loc['2014-05-27':'2014-06-18','Close']"
   ]
  },
  {
   "cell_type": "code",
   "execution_count": 9,
   "metadata": {},
   "outputs": [
    {
     "data": {
      "text/plain": [
       "(array([735372., 735379., 735386., 735393., 735400., 735407.]),\n",
       " <a list of 6 Text xticklabel objects>)"
      ]
     },
     "execution_count": 9,
     "metadata": {},
     "output_type": "execute_result"
    },
    {
     "data": {
      "image/png": "[encoded data removed]",
      "text/plain": [
       "<matplotlib.figure.Figure at 0xb309da0>"
      ]
     },
     "metadata": {},
     "output_type": "display_data"
    }
   ],
   "source": [
    "plt.plot(aapl.loc['2014-05-20':'2014-06-29','Close'])\n",
    "plt.xticks(rotation=90)\n",
    "plt.grid()\n",
    "plt.xlabel(\"\\nDates\")\n",
    "plt.ylabel(\"Close\")\n",
    "plt.xticks(rotation=25)"
   ]
  },
  {
   "cell_type": "markdown",
   "metadata": {},
   "source": [
    "We can see that the value of Close dropped on 2014-06-09. This is confirmed by this news article :- http://money.cnn.com/2014/06/09/investing/apple-stock-split-reactions/index.html"
   ]
  },
  {
   "cell_type": "markdown",
   "metadata": {},
   "source": [
    "# Common Financial Analysis\n"
   ]
  },
  {
   "cell_type": "markdown",
   "metadata": {},
   "source": [
    "## Returns"
   ]
  },
  {
   "cell_type": "code",
   "execution_count": 10,
   "metadata": {},
   "outputs": [
    {
     "data": {
      "text/html": [
       "<div>\n",
       "<style scoped>\n",
       "    .dataframe tbody tr th:only-of-type {\n",
       "        vertical-align: middle;\n",
       "    }\n",
       "\n",
       "    .dataframe tbody tr th {\n",
       "        vertical-align: top;\n",
       "    }\n",
       "\n",
       "    .dataframe thead th {\n",
       "        text-align: right;\n",
       "    }\n",
       "</style>\n",
       "<table border=\"1\" class=\"dataframe\">\n",
       "  <thead>\n",
       "    <tr style=\"text-align: right;\">\n",
       "      <th></th>\n",
       "      <th>Adj. Close</th>\n",
       "    </tr>\n",
       "    <tr>\n",
       "      <th>Date</th>\n",
       "      <th></th>\n",
       "    </tr>\n",
       "  </thead>\n",
       "  <tbody>\n",
       "    <tr>\n",
       "      <th>2013-10-01</th>\n",
       "      <td>64.483312</td>\n",
       "    </tr>\n",
       "    <tr>\n",
       "      <th>2013-10-02</th>\n",
       "      <td>64.694750</td>\n",
       "    </tr>\n",
       "    <tr>\n",
       "      <th>2013-10-03</th>\n",
       "      <td>63.882036</td>\n",
       "    </tr>\n",
       "    <tr>\n",
       "      <th>2013-10-04</th>\n",
       "      <td>63.831819</td>\n",
       "    </tr>\n",
       "    <tr>\n",
       "      <th>2013-10-07</th>\n",
       "      <td>64.455561</td>\n",
       "    </tr>\n",
       "  </tbody>\n",
       "</table>\n",
       "</div>"
      ],
      "text/plain": [
       "            Adj. Close\n",
       "Date                  \n",
       "2013-10-01   64.483312\n",
       "2013-10-02   64.694750\n",
       "2013-10-03   63.882036\n",
       "2013-10-04   63.831819\n",
       "2013-10-07   64.455561"
      ]
     },
     "execution_count": 10,
     "metadata": {},
     "output_type": "execute_result"
    }
   ],
   "source": [
    "# Assign `Adj Close` to `daily_close`\n",
    "daily_close = aapl[['Adj. Close']]\n",
    "daily_close.head(5)"
   ]
  },
  {
   "cell_type": "code",
   "execution_count": 11,
   "metadata": {},
   "outputs": [
    {
     "name": "stdout",
     "output_type": "stream",
     "text": [
      "            Adj. Close\n",
      "Date                  \n",
      "2013-10-01    0.000000\n",
      "2013-10-02    0.003279\n",
      "2013-10-03   -0.012562\n",
      "2013-10-04   -0.000786\n",
      "2013-10-07    0.009772\n"
     ]
    }
   ],
   "source": [
    "daily_pct_c = daily_close.pct_change()\n",
    "daily_pct_c.fillna(0, inplace=True)\n",
    "print(daily_pct_c.head(5))"
   ]
  },
  {
   "cell_type": "markdown",
   "metadata": {},
   "source": [
    "DataFrame.pct_change()-Computes the percentage change from the immediately previous row by default. This is useful in comparing the percentage of change."
   ]
  },
  {
   "cell_type": "code",
   "execution_count": 12,
   "metadata": {},
   "outputs": [
    {
     "data": {
      "text/html": [
       "<div>\n",
       "<style scoped>\n",
       "    .dataframe tbody tr th:only-of-type {\n",
       "        vertical-align: middle;\n",
       "    }\n",
       "\n",
       "    .dataframe tbody tr th {\n",
       "        vertical-align: top;\n",
       "    }\n",
       "\n",
       "    .dataframe thead th {\n",
       "        text-align: right;\n",
       "    }\n",
       "</style>\n",
       "<table border=\"1\" class=\"dataframe\">\n",
       "  <thead>\n",
       "    <tr style=\"text-align: right;\">\n",
       "      <th></th>\n",
       "      <th>Shift Adj.Close</th>\n",
       "      <th>Adj. Close</th>\n",
       "    </tr>\n",
       "    <tr>\n",
       "      <th>Date</th>\n",
       "      <th></th>\n",
       "      <th></th>\n",
       "    </tr>\n",
       "  </thead>\n",
       "  <tbody>\n",
       "    <tr>\n",
       "      <th>2013-10-01</th>\n",
       "      <td>NaN</td>\n",
       "      <td>64.483312</td>\n",
       "    </tr>\n",
       "    <tr>\n",
       "      <th>2013-10-02</th>\n",
       "      <td>64.483312</td>\n",
       "      <td>64.694750</td>\n",
       "    </tr>\n",
       "    <tr>\n",
       "      <th>2013-10-03</th>\n",
       "      <td>64.694750</td>\n",
       "      <td>63.882036</td>\n",
       "    </tr>\n",
       "    <tr>\n",
       "      <th>2013-10-04</th>\n",
       "      <td>63.882036</td>\n",
       "      <td>63.831819</td>\n",
       "    </tr>\n",
       "    <tr>\n",
       "      <th>2013-10-07</th>\n",
       "      <td>63.831819</td>\n",
       "      <td>64.455561</td>\n",
       "    </tr>\n",
       "  </tbody>\n",
       "</table>\n",
       "</div>"
      ],
      "text/plain": [
       "            Shift Adj.Close  Adj. Close\n",
       "Date                                   \n",
       "2013-10-01              NaN   64.483312\n",
       "2013-10-02        64.483312   64.694750\n",
       "2013-10-03        64.694750   63.882036\n",
       "2013-10-04        63.882036   63.831819\n",
       "2013-10-07        63.831819   64.455561"
      ]
     },
     "execution_count": 12,
     "metadata": {},
     "output_type": "execute_result"
    }
   ],
   "source": [
    "aapl['Shift Adj.Close']=daily_close.shift(1)\n",
    "aapl[['Shift Adj.Close','Adj. Close']].head()\n"
   ]
  },
  {
   "cell_type": "code",
   "execution_count": 13,
   "metadata": {},
   "outputs": [
    {
     "data": {
      "text/html": [
       "<div>\n",
       "<style scoped>\n",
       "    .dataframe tbody tr th:only-of-type {\n",
       "        vertical-align: middle;\n",
       "    }\n",
       "\n",
       "    .dataframe tbody tr th {\n",
       "        vertical-align: top;\n",
       "    }\n",
       "\n",
       "    .dataframe thead th {\n",
       "        text-align: right;\n",
       "    }\n",
       "</style>\n",
       "<table border=\"1\" class=\"dataframe\">\n",
       "  <thead>\n",
       "    <tr style=\"text-align: right;\">\n",
       "      <th></th>\n",
       "      <th>Daily Return</th>\n",
       "    </tr>\n",
       "    <tr>\n",
       "      <th>Date</th>\n",
       "      <th></th>\n",
       "    </tr>\n",
       "  </thead>\n",
       "  <tbody>\n",
       "    <tr>\n",
       "      <th>2013-10-01</th>\n",
       "      <td>NaN</td>\n",
       "    </tr>\n",
       "    <tr>\n",
       "      <th>2013-10-02</th>\n",
       "      <td>0.326824</td>\n",
       "    </tr>\n",
       "    <tr>\n",
       "      <th>2013-10-03</th>\n",
       "      <td>-1.272212</td>\n",
       "    </tr>\n",
       "    <tr>\n",
       "      <th>2013-10-04</th>\n",
       "      <td>-0.078670</td>\n",
       "    </tr>\n",
       "    <tr>\n",
       "      <th>2013-10-07</th>\n",
       "      <td>0.967709</td>\n",
       "    </tr>\n",
       "  </tbody>\n",
       "</table>\n",
       "</div>"
      ],
      "text/plain": [
       "            Daily Return\n",
       "Date                    \n",
       "2013-10-01           NaN\n",
       "2013-10-02      0.326824\n",
       "2013-10-03     -1.272212\n",
       "2013-10-04     -0.078670\n",
       "2013-10-07      0.967709"
      ]
     },
     "execution_count": 13,
     "metadata": {},
     "output_type": "execute_result"
    }
   ],
   "source": [
    "aapl['Daily Return']=(daily_close - daily_close.shift(1)) / daily_close * 100\n",
    "aapl[['Daily Return']].head()"
   ]
  },
  {
   "cell_type": "markdown",
   "metadata": {},
   "source": [
    "The daily retrurn value gives the percentage change in the stock value. For eg, the stock changed by 0.32% on 2013-10-02 from the previous day's stock value.\n",
    "https://pocketsense.com/calculate-daily-stock-return-5138.html"
   ]
  },
  {
   "cell_type": "markdown",
   "metadata": {},
   "source": [
    "## Daily Log Returns"
   ]
  },
  {
   "cell_type": "code",
   "execution_count": 14,
   "metadata": {},
   "outputs": [
    {
     "data": {
      "text/html": [
       "<div>\n",
       "<style scoped>\n",
       "    .dataframe tbody tr th:only-of-type {\n",
       "        vertical-align: middle;\n",
       "    }\n",
       "\n",
       "    .dataframe tbody tr th {\n",
       "        vertical-align: top;\n",
       "    }\n",
       "\n",
       "    .dataframe thead th {\n",
       "        text-align: right;\n",
       "    }\n",
       "</style>\n",
       "<table border=\"1\" class=\"dataframe\">\n",
       "  <thead>\n",
       "    <tr style=\"text-align: right;\">\n",
       "      <th></th>\n",
       "      <th>Adj. Close</th>\n",
       "    </tr>\n",
       "    <tr>\n",
       "      <th>Date</th>\n",
       "      <th></th>\n",
       "    </tr>\n",
       "  </thead>\n",
       "  <tbody>\n",
       "    <tr>\n",
       "      <th>2013-10-01</th>\n",
       "      <td>NaN</td>\n",
       "    </tr>\n",
       "    <tr>\n",
       "      <th>2013-10-02</th>\n",
       "      <td>0.003274</td>\n",
       "    </tr>\n",
       "    <tr>\n",
       "      <th>2013-10-03</th>\n",
       "      <td>-0.012642</td>\n",
       "    </tr>\n",
       "    <tr>\n",
       "      <th>2013-10-04</th>\n",
       "      <td>-0.000786</td>\n",
       "    </tr>\n",
       "    <tr>\n",
       "      <th>2013-10-07</th>\n",
       "      <td>0.009724</td>\n",
       "    </tr>\n",
       "  </tbody>\n",
       "</table>\n",
       "</div>"
      ],
      "text/plain": [
       "            Adj. Close\n",
       "Date                  \n",
       "2013-10-01         NaN\n",
       "2013-10-02    0.003274\n",
       "2013-10-03   -0.012642\n",
       "2013-10-04   -0.000786\n",
       "2013-10-07    0.009724"
      ]
     },
     "execution_count": 14,
     "metadata": {},
     "output_type": "execute_result"
    }
   ],
   "source": [
    "daily_log_returns = np.log(daily_close.pct_change()+1)\n",
    "daily_log_returns.head()"
   ]
  },
  {
   "cell_type": "markdown",
   "metadata": {},
   "source": [
    "## Resampling"
   ]
  },
  {
   "cell_type": "code",
   "execution_count": 15,
   "metadata": {},
   "outputs": [
    {
     "name": "stdout",
     "output_type": "stream",
     "text": [
      "Monthly Stock Data------------\n",
      "\n",
      "\n"
     ]
    },
    {
     "data": {
      "text/html": [
       "<div>\n",
       "<style scoped>\n",
       "    .dataframe tbody tr th:only-of-type {\n",
       "        vertical-align: middle;\n",
       "    }\n",
       "\n",
       "    .dataframe tbody tr th {\n",
       "        vertical-align: top;\n",
       "    }\n",
       "\n",
       "    .dataframe thead th {\n",
       "        text-align: right;\n",
       "    }\n",
       "</style>\n",
       "<table border=\"1\" class=\"dataframe\">\n",
       "  <thead>\n",
       "    <tr style=\"text-align: right;\">\n",
       "      <th></th>\n",
       "      <th>Open</th>\n",
       "      <th>High</th>\n",
       "      <th>Low</th>\n",
       "      <th>Close</th>\n",
       "      <th>Volume</th>\n",
       "      <th>Ex-Dividend</th>\n",
       "      <th>Split Ratio</th>\n",
       "      <th>Adj. Open</th>\n",
       "      <th>Adj. High</th>\n",
       "      <th>Adj. Low</th>\n",
       "      <th>Adj. Close</th>\n",
       "      <th>Adj. Volume</th>\n",
       "      <th>diff</th>\n",
       "      <th>Shift Adj.Close</th>\n",
       "      <th>Daily Return</th>\n",
       "    </tr>\n",
       "    <tr>\n",
       "      <th>Date</th>\n",
       "      <th></th>\n",
       "      <th></th>\n",
       "      <th></th>\n",
       "      <th></th>\n",
       "      <th></th>\n",
       "      <th></th>\n",
       "      <th></th>\n",
       "      <th></th>\n",
       "      <th></th>\n",
       "      <th></th>\n",
       "      <th></th>\n",
       "      <th></th>\n",
       "      <th></th>\n",
       "      <th></th>\n",
       "      <th></th>\n",
       "    </tr>\n",
       "  </thead>\n",
       "  <tbody>\n",
       "    <tr>\n",
       "      <th>2013-10-31</th>\n",
       "      <td>504.148043</td>\n",
       "      <td>508.726939</td>\n",
       "      <td>499.542596</td>\n",
       "      <td>504.744413</td>\n",
       "      <td>1.217039e+07</td>\n",
       "      <td>0.000000</td>\n",
       "      <td>1.0</td>\n",
       "      <td>66.622542</td>\n",
       "      <td>67.227638</td>\n",
       "      <td>66.013938</td>\n",
       "      <td>66.701352</td>\n",
       "      <td>8.519274e+07</td>\n",
       "      <td>-0.596370</td>\n",
       "      <td>66.593485</td>\n",
       "      <td>0.306170</td>\n",
       "    </tr>\n",
       "    <tr>\n",
       "      <th>2013-11-29</th>\n",
       "      <td>523.217990</td>\n",
       "      <td>527.829750</td>\n",
       "      <td>520.223000</td>\n",
       "      <td>524.616450</td>\n",
       "      <td>9.330635e+06</td>\n",
       "      <td>0.152500</td>\n",
       "      <td>1.0</td>\n",
       "      <td>69.486718</td>\n",
       "      <td>70.099306</td>\n",
       "      <td>69.089082</td>\n",
       "      <td>69.672507</td>\n",
       "      <td>6.531444e+07</td>\n",
       "      <td>-1.398460</td>\n",
       "      <td>69.430517</td>\n",
       "      <td>0.332086</td>\n",
       "    </tr>\n",
       "    <tr>\n",
       "      <th>2013-12-31</th>\n",
       "      <td>560.648171</td>\n",
       "      <td>564.354981</td>\n",
       "      <td>556.405224</td>\n",
       "      <td>559.657762</td>\n",
       "      <td>1.200238e+07</td>\n",
       "      <td>0.000000</td>\n",
       "      <td>1.0</td>\n",
       "      <td>74.522757</td>\n",
       "      <td>75.015476</td>\n",
       "      <td>73.958774</td>\n",
       "      <td>74.391110</td>\n",
       "      <td>8.401663e+07</td>\n",
       "      <td>0.990410</td>\n",
       "      <td>74.359778</td>\n",
       "      <td>0.034121</td>\n",
       "    </tr>\n",
       "    <tr>\n",
       "      <th>2014-01-31</th>\n",
       "      <td>538.101176</td>\n",
       "      <td>542.844762</td>\n",
       "      <td>533.065833</td>\n",
       "      <td>537.445643</td>\n",
       "      <td>1.490809e+07</td>\n",
       "      <td>0.000000</td>\n",
       "      <td>1.0</td>\n",
       "      <td>71.525754</td>\n",
       "      <td>72.156284</td>\n",
       "      <td>70.856444</td>\n",
       "      <td>71.438619</td>\n",
       "      <td>1.043566e+08</td>\n",
       "      <td>0.655533</td>\n",
       "      <td>71.821056</td>\n",
       "      <td>-0.567596</td>\n",
       "    </tr>\n",
       "    <tr>\n",
       "      <th>2014-02-28</th>\n",
       "      <td>525.721195</td>\n",
       "      <td>530.773405</td>\n",
       "      <td>522.126416</td>\n",
       "      <td>526.580000</td>\n",
       "      <td>1.105332e+07</td>\n",
       "      <td>0.160526</td>\n",
       "      <td>1.0</td>\n",
       "      <td>70.232965</td>\n",
       "      <td>70.907787</td>\n",
       "      <td>69.752574</td>\n",
       "      <td>70.347470</td>\n",
       "      <td>7.737325e+07</td>\n",
       "      <td>-0.858805</td>\n",
       "      <td>70.146186</td>\n",
       "      <td>0.287921</td>\n",
       "    </tr>\n",
       "  </tbody>\n",
       "</table>\n",
       "</div>"
      ],
      "text/plain": [
       "                  Open        High         Low       Close        Volume  \\\n",
       "Date                                                                       \n",
       "2013-10-31  504.148043  508.726939  499.542596  504.744413  1.217039e+07   \n",
       "2013-11-29  523.217990  527.829750  520.223000  524.616450  9.330635e+06   \n",
       "2013-12-31  560.648171  564.354981  556.405224  559.657762  1.200238e+07   \n",
       "2014-01-31  538.101176  542.844762  533.065833  537.445643  1.490809e+07   \n",
       "2014-02-28  525.721195  530.773405  522.126416  526.580000  1.105332e+07   \n",
       "\n",
       "            Ex-Dividend  Split Ratio  Adj. Open  Adj. High   Adj. Low  \\\n",
       "Date                                                                    \n",
       "2013-10-31     0.000000          1.0  66.622542  67.227638  66.013938   \n",
       "2013-11-29     0.152500          1.0  69.486718  70.099306  69.089082   \n",
       "2013-12-31     0.000000          1.0  74.522757  75.015476  73.958774   \n",
       "2014-01-31     0.000000          1.0  71.525754  72.156284  70.856444   \n",
       "2014-02-28     0.160526          1.0  70.232965  70.907787  69.752574   \n",
       "\n",
       "            Adj. Close   Adj. Volume      diff  Shift Adj.Close  Daily Return  \n",
       "Date                                                                           \n",
       "2013-10-31   66.701352  8.519274e+07 -0.596370        66.593485      0.306170  \n",
       "2013-11-29   69.672507  6.531444e+07 -1.398460        69.430517      0.332086  \n",
       "2013-12-31   74.391110  8.401663e+07  0.990410        74.359778      0.034121  \n",
       "2014-01-31   71.438619  1.043566e+08  0.655533        71.821056     -0.567596  \n",
       "2014-02-28   70.347470  7.737325e+07 -0.858805        70.146186      0.287921  "
      ]
     },
     "execution_count": 15,
     "metadata": {},
     "output_type": "execute_result"
    }
   ],
   "source": [
    "# Resample `aapl` to business months. \n",
    "monthly = aapl.resample('BM').mean()\n",
    "print ('Monthly Stock Data'+ \"-\"*12)\n",
    "print('\\n')\n",
    "monthly.head()\n"
   ]
  },
  {
   "cell_type": "markdown",
   "metadata": {},
   "source": [
    "It takes observation of the last working day each month and displays the values."
   ]
  },
  {
   "cell_type": "code",
   "execution_count": 16,
   "metadata": {},
   "outputs": [
    {
     "name": "stdout",
     "output_type": "stream",
     "text": [
      " Monthly Percentage Change------------\n",
      "\n",
      "\n"
     ]
    },
    {
     "data": {
      "text/html": [
       "<div>\n",
       "<style scoped>\n",
       "    .dataframe tbody tr th:only-of-type {\n",
       "        vertical-align: middle;\n",
       "    }\n",
       "\n",
       "    .dataframe tbody tr th {\n",
       "        vertical-align: top;\n",
       "    }\n",
       "\n",
       "    .dataframe thead th {\n",
       "        text-align: right;\n",
       "    }\n",
       "</style>\n",
       "<table border=\"1\" class=\"dataframe\">\n",
       "  <thead>\n",
       "    <tr style=\"text-align: right;\">\n",
       "      <th></th>\n",
       "      <th>Open</th>\n",
       "      <th>High</th>\n",
       "      <th>Low</th>\n",
       "      <th>Close</th>\n",
       "      <th>Volume</th>\n",
       "      <th>Ex-Dividend</th>\n",
       "      <th>Split Ratio</th>\n",
       "      <th>Adj. Open</th>\n",
       "      <th>Adj. High</th>\n",
       "      <th>Adj. Low</th>\n",
       "      <th>Adj. Close</th>\n",
       "      <th>Adj. Volume</th>\n",
       "      <th>diff</th>\n",
       "      <th>Shift Adj.Close</th>\n",
       "      <th>Daily Return</th>\n",
       "    </tr>\n",
       "    <tr>\n",
       "      <th>Date</th>\n",
       "      <th></th>\n",
       "      <th></th>\n",
       "      <th></th>\n",
       "      <th></th>\n",
       "      <th></th>\n",
       "      <th></th>\n",
       "      <th></th>\n",
       "      <th></th>\n",
       "      <th></th>\n",
       "      <th></th>\n",
       "      <th></th>\n",
       "      <th></th>\n",
       "      <th></th>\n",
       "      <th></th>\n",
       "      <th></th>\n",
       "    </tr>\n",
       "  </thead>\n",
       "  <tbody>\n",
       "    <tr>\n",
       "      <th>2013-10-31</th>\n",
       "      <td>NaN</td>\n",
       "      <td>NaN</td>\n",
       "      <td>NaN</td>\n",
       "      <td>NaN</td>\n",
       "      <td>NaN</td>\n",
       "      <td>NaN</td>\n",
       "      <td>NaN</td>\n",
       "      <td>NaN</td>\n",
       "      <td>NaN</td>\n",
       "      <td>NaN</td>\n",
       "      <td>NaN</td>\n",
       "      <td>NaN</td>\n",
       "      <td>NaN</td>\n",
       "      <td>NaN</td>\n",
       "      <td>NaN</td>\n",
       "    </tr>\n",
       "    <tr>\n",
       "      <th>2013-11-29</th>\n",
       "      <td>0.037826</td>\n",
       "      <td>0.037550</td>\n",
       "      <td>0.041399</td>\n",
       "      <td>0.039370</td>\n",
       "      <td>-0.233333</td>\n",
       "      <td>inf</td>\n",
       "      <td>0.0</td>\n",
       "      <td>0.042991</td>\n",
       "      <td>0.042716</td>\n",
       "      <td>0.046583</td>\n",
       "      <td>0.044544</td>\n",
       "      <td>-0.233333</td>\n",
       "      <td>1.344955</td>\n",
       "      <td>0.042602</td>\n",
       "      <td>0.084646</td>\n",
       "    </tr>\n",
       "    <tr>\n",
       "      <th>2013-12-31</th>\n",
       "      <td>0.071538</td>\n",
       "      <td>0.069199</td>\n",
       "      <td>0.069551</td>\n",
       "      <td>0.066794</td>\n",
       "      <td>0.286341</td>\n",
       "      <td>-1.000000</td>\n",
       "      <td>0.0</td>\n",
       "      <td>0.072475</td>\n",
       "      <td>0.070132</td>\n",
       "      <td>0.070484</td>\n",
       "      <td>0.067725</td>\n",
       "      <td>0.286341</td>\n",
       "      <td>-1.708214</td>\n",
       "      <td>0.070996</td>\n",
       "      <td>-0.897252</td>\n",
       "    </tr>\n",
       "    <tr>\n",
       "      <th>2014-01-31</th>\n",
       "      <td>-0.040216</td>\n",
       "      <td>-0.038115</td>\n",
       "      <td>-0.041947</td>\n",
       "      <td>-0.039689</td>\n",
       "      <td>0.242095</td>\n",
       "      <td>NaN</td>\n",
       "      <td>0.0</td>\n",
       "      <td>-0.040216</td>\n",
       "      <td>-0.038115</td>\n",
       "      <td>-0.041947</td>\n",
       "      <td>-0.039689</td>\n",
       "      <td>0.242095</td>\n",
       "      <td>-0.338119</td>\n",
       "      <td>-0.034141</td>\n",
       "      <td>-17.634673</td>\n",
       "    </tr>\n",
       "    <tr>\n",
       "      <th>2014-02-28</th>\n",
       "      <td>-0.023007</td>\n",
       "      <td>-0.022237</td>\n",
       "      <td>-0.020522</td>\n",
       "      <td>-0.020217</td>\n",
       "      <td>-0.258569</td>\n",
       "      <td>inf</td>\n",
       "      <td>0.0</td>\n",
       "      <td>-0.018074</td>\n",
       "      <td>-0.017303</td>\n",
       "      <td>-0.015579</td>\n",
       "      <td>-0.015274</td>\n",
       "      <td>-0.258569</td>\n",
       "      <td>-2.310086</td>\n",
       "      <td>-0.023320</td>\n",
       "      <td>-1.507265</td>\n",
       "    </tr>\n",
       "  </tbody>\n",
       "</table>\n",
       "</div>"
      ],
      "text/plain": [
       "                Open      High       Low     Close    Volume  Ex-Dividend  \\\n",
       "Date                                                                        \n",
       "2013-10-31       NaN       NaN       NaN       NaN       NaN          NaN   \n",
       "2013-11-29  0.037826  0.037550  0.041399  0.039370 -0.233333          inf   \n",
       "2013-12-31  0.071538  0.069199  0.069551  0.066794  0.286341    -1.000000   \n",
       "2014-01-31 -0.040216 -0.038115 -0.041947 -0.039689  0.242095          NaN   \n",
       "2014-02-28 -0.023007 -0.022237 -0.020522 -0.020217 -0.258569          inf   \n",
       "\n",
       "            Split Ratio  Adj. Open  Adj. High  Adj. Low  Adj. Close  \\\n",
       "Date                                                                  \n",
       "2013-10-31          NaN        NaN        NaN       NaN         NaN   \n",
       "2013-11-29          0.0   0.042991   0.042716  0.046583    0.044544   \n",
       "2013-12-31          0.0   0.072475   0.070132  0.070484    0.067725   \n",
       "2014-01-31          0.0  -0.040216  -0.038115 -0.041947   -0.039689   \n",
       "2014-02-28          0.0  -0.018074  -0.017303 -0.015579   -0.015274   \n",
       "\n",
       "            Adj. Volume      diff  Shift Adj.Close  Daily Return  \n",
       "Date                                                              \n",
       "2013-10-31          NaN       NaN              NaN           NaN  \n",
       "2013-11-29    -0.233333  1.344955         0.042602      0.084646  \n",
       "2013-12-31     0.286341 -1.708214         0.070996     -0.897252  \n",
       "2014-01-31     0.242095 -0.338119        -0.034141    -17.634673  \n",
       "2014-02-28    -0.258569 -2.310086        -0.023320     -1.507265  "
      ]
     },
     "execution_count": 16,
     "metadata": {},
     "output_type": "execute_result"
    }
   ],
   "source": [
    "print(\" Monthly Percentage Change\" + \"-\"*12)\n",
    "print('\\n')\n",
    "monthly.pct_change().head()"
   ]
  },
  {
   "cell_type": "code",
   "execution_count": 17,
   "metadata": {},
   "outputs": [
    {
     "name": "stdout",
     "output_type": "stream",
     "text": [
      "Quarterly Stock Data------------\n",
      "\n",
      "\n"
     ]
    },
    {
     "data": {
      "text/html": [
       "<div>\n",
       "<style scoped>\n",
       "    .dataframe tbody tr th:only-of-type {\n",
       "        vertical-align: middle;\n",
       "    }\n",
       "\n",
       "    .dataframe tbody tr th {\n",
       "        vertical-align: top;\n",
       "    }\n",
       "\n",
       "    .dataframe thead th {\n",
       "        text-align: right;\n",
       "    }\n",
       "</style>\n",
       "<table border=\"1\" class=\"dataframe\">\n",
       "  <thead>\n",
       "    <tr style=\"text-align: right;\">\n",
       "      <th></th>\n",
       "      <th>Open</th>\n",
       "      <th>High</th>\n",
       "      <th>Low</th>\n",
       "      <th>Close</th>\n",
       "      <th>Volume</th>\n",
       "      <th>Ex-Dividend</th>\n",
       "      <th>Split Ratio</th>\n",
       "      <th>Adj. Open</th>\n",
       "      <th>Adj. High</th>\n",
       "      <th>Adj. Low</th>\n",
       "      <th>Adj. Close</th>\n",
       "      <th>Adj. Volume</th>\n",
       "      <th>diff</th>\n",
       "      <th>Shift Adj.Close</th>\n",
       "      <th>Daily Return</th>\n",
       "    </tr>\n",
       "    <tr>\n",
       "      <th>Date</th>\n",
       "      <th></th>\n",
       "      <th></th>\n",
       "      <th></th>\n",
       "      <th></th>\n",
       "      <th></th>\n",
       "      <th></th>\n",
       "      <th></th>\n",
       "      <th></th>\n",
       "      <th></th>\n",
       "      <th></th>\n",
       "      <th></th>\n",
       "      <th></th>\n",
       "      <th></th>\n",
       "      <th></th>\n",
       "      <th></th>\n",
       "    </tr>\n",
       "  </thead>\n",
       "  <tbody>\n",
       "    <tr>\n",
       "      <th>2013-10-31</th>\n",
       "      <td>504.148043</td>\n",
       "      <td>508.726939</td>\n",
       "      <td>499.542596</td>\n",
       "      <td>504.744413</td>\n",
       "      <td>1.217039e+07</td>\n",
       "      <td>0.000000</td>\n",
       "      <td>1.000000</td>\n",
       "      <td>66.622542</td>\n",
       "      <td>67.227638</td>\n",
       "      <td>66.013938</td>\n",
       "      <td>66.701352</td>\n",
       "      <td>8.519274e+07</td>\n",
       "      <td>-0.596370</td>\n",
       "      <td>66.593485</td>\n",
       "      <td>0.306170</td>\n",
       "    </tr>\n",
       "    <tr>\n",
       "      <th>2014-02-28</th>\n",
       "      <td>537.367886</td>\n",
       "      <td>541.882522</td>\n",
       "      <td>533.379680</td>\n",
       "      <td>537.487907</td>\n",
       "      <td>1.187340e+07</td>\n",
       "      <td>0.075309</td>\n",
       "      <td>1.000000</td>\n",
       "      <td>71.496042</td>\n",
       "      <td>72.096803</td>\n",
       "      <td>70.965434</td>\n",
       "      <td>71.512054</td>\n",
       "      <td>8.311381e+07</td>\n",
       "      <td>-0.120021</td>\n",
       "      <td>71.496116</td>\n",
       "      <td>0.011226</td>\n",
       "    </tr>\n",
       "    <tr>\n",
       "      <th>2014-06-30</th>\n",
       "      <td>474.334226</td>\n",
       "      <td>477.814880</td>\n",
       "      <td>471.350413</td>\n",
       "      <td>475.035612</td>\n",
       "      <td>1.745828e+07</td>\n",
       "      <td>0.039167</td>\n",
       "      <td>1.071429</td>\n",
       "      <td>77.705556</td>\n",
       "      <td>78.268822</td>\n",
       "      <td>77.189800</td>\n",
       "      <td>77.783325</td>\n",
       "      <td>6.547796e+07</td>\n",
       "      <td>-0.701386</td>\n",
       "      <td>77.579715</td>\n",
       "      <td>0.251059</td>\n",
       "    </tr>\n",
       "    <tr>\n",
       "      <th>2014-10-31</th>\n",
       "      <td>99.055908</td>\n",
       "      <td>99.902356</td>\n",
       "      <td>98.240232</td>\n",
       "      <td>99.098183</td>\n",
       "      <td>5.574926e+07</td>\n",
       "      <td>0.005402</td>\n",
       "      <td>1.000000</td>\n",
       "      <td>93.564521</td>\n",
       "      <td>94.364221</td>\n",
       "      <td>92.794141</td>\n",
       "      <td>93.604609</td>\n",
       "      <td>5.574926e+07</td>\n",
       "      <td>-0.042275</td>\n",
       "      <td>93.435758</td>\n",
       "      <td>0.170600</td>\n",
       "    </tr>\n",
       "    <tr>\n",
       "      <th>2015-02-28</th>\n",
       "      <td>115.298438</td>\n",
       "      <td>116.434966</td>\n",
       "      <td>114.063112</td>\n",
       "      <td>115.268500</td>\n",
       "      <td>5.419578e+07</td>\n",
       "      <td>0.011750</td>\n",
       "      <td>1.000000</td>\n",
       "      <td>109.611313</td>\n",
       "      <td>110.691715</td>\n",
       "      <td>108.437158</td>\n",
       "      <td>109.583141</td>\n",
       "      <td>5.419578e+07</td>\n",
       "      <td>0.029937</td>\n",
       "      <td>109.328678</td>\n",
       "      <td>0.213621</td>\n",
       "    </tr>\n",
       "  </tbody>\n",
       "</table>\n",
       "</div>"
      ],
      "text/plain": [
       "                  Open        High         Low       Close        Volume  \\\n",
       "Date                                                                       \n",
       "2013-10-31  504.148043  508.726939  499.542596  504.744413  1.217039e+07   \n",
       "2014-02-28  537.367886  541.882522  533.379680  537.487907  1.187340e+07   \n",
       "2014-06-30  474.334226  477.814880  471.350413  475.035612  1.745828e+07   \n",
       "2014-10-31   99.055908   99.902356   98.240232   99.098183  5.574926e+07   \n",
       "2015-02-28  115.298438  116.434966  114.063112  115.268500  5.419578e+07   \n",
       "\n",
       "            Ex-Dividend  Split Ratio   Adj. Open   Adj. High    Adj. Low  \\\n",
       "Date                                                                       \n",
       "2013-10-31     0.000000     1.000000   66.622542   67.227638   66.013938   \n",
       "2014-02-28     0.075309     1.000000   71.496042   72.096803   70.965434   \n",
       "2014-06-30     0.039167     1.071429   77.705556   78.268822   77.189800   \n",
       "2014-10-31     0.005402     1.000000   93.564521   94.364221   92.794141   \n",
       "2015-02-28     0.011750     1.000000  109.611313  110.691715  108.437158   \n",
       "\n",
       "            Adj. Close   Adj. Volume      diff  Shift Adj.Close  Daily Return  \n",
       "Date                                                                           \n",
       "2013-10-31   66.701352  8.519274e+07 -0.596370        66.593485      0.306170  \n",
       "2014-02-28   71.512054  8.311381e+07 -0.120021        71.496116      0.011226  \n",
       "2014-06-30   77.783325  6.547796e+07 -0.701386        77.579715      0.251059  \n",
       "2014-10-31   93.604609  5.574926e+07 -0.042275        93.435758      0.170600  \n",
       "2015-02-28  109.583141  5.419578e+07  0.029937       109.328678      0.213621  "
      ]
     },
     "execution_count": 17,
     "metadata": {},
     "output_type": "execute_result"
    }
   ],
   "source": [
    "# Resample `aapl` to quarters\n",
    "quarter = aapl.resample(\"4M\").mean()\n",
    "print ('Quarterly Stock Data'+ \"-\"*12)\n",
    "print('\\n')\n",
    "quarter.head()\n"
   ]
  },
  {
   "cell_type": "code",
   "execution_count": 18,
   "metadata": {},
   "outputs": [
    {
     "name": "stdout",
     "output_type": "stream",
     "text": [
      " Quarterly Percentage Change------------\n",
      "\n",
      "\n"
     ]
    },
    {
     "data": {
      "text/html": [
       "<div>\n",
       "<style scoped>\n",
       "    .dataframe tbody tr th:only-of-type {\n",
       "        vertical-align: middle;\n",
       "    }\n",
       "\n",
       "    .dataframe tbody tr th {\n",
       "        vertical-align: top;\n",
       "    }\n",
       "\n",
       "    .dataframe thead th {\n",
       "        text-align: right;\n",
       "    }\n",
       "</style>\n",
       "<table border=\"1\" class=\"dataframe\">\n",
       "  <thead>\n",
       "    <tr style=\"text-align: right;\">\n",
       "      <th></th>\n",
       "      <th>Open</th>\n",
       "      <th>High</th>\n",
       "      <th>Low</th>\n",
       "      <th>Close</th>\n",
       "      <th>Volume</th>\n",
       "      <th>Ex-Dividend</th>\n",
       "      <th>Split Ratio</th>\n",
       "      <th>Adj. Open</th>\n",
       "      <th>Adj. High</th>\n",
       "      <th>Adj. Low</th>\n",
       "      <th>Adj. Close</th>\n",
       "      <th>Adj. Volume</th>\n",
       "      <th>diff</th>\n",
       "      <th>Shift Adj.Close</th>\n",
       "      <th>Daily Return</th>\n",
       "    </tr>\n",
       "    <tr>\n",
       "      <th>Date</th>\n",
       "      <th></th>\n",
       "      <th></th>\n",
       "      <th></th>\n",
       "      <th></th>\n",
       "      <th></th>\n",
       "      <th></th>\n",
       "      <th></th>\n",
       "      <th></th>\n",
       "      <th></th>\n",
       "      <th></th>\n",
       "      <th></th>\n",
       "      <th></th>\n",
       "      <th></th>\n",
       "      <th></th>\n",
       "      <th></th>\n",
       "    </tr>\n",
       "  </thead>\n",
       "  <tbody>\n",
       "    <tr>\n",
       "      <th>2014-02-28</th>\n",
       "      <td>0.065893</td>\n",
       "      <td>0.065174</td>\n",
       "      <td>0.067736</td>\n",
       "      <td>0.064871</td>\n",
       "      <td>-0.024403</td>\n",
       "      <td>inf</td>\n",
       "      <td>0.000000</td>\n",
       "      <td>0.073151</td>\n",
       "      <td>0.072428</td>\n",
       "      <td>0.075007</td>\n",
       "      <td>0.072123</td>\n",
       "      <td>-0.024403</td>\n",
       "      <td>-0.798747</td>\n",
       "      <td>0.073620</td>\n",
       "      <td>-0.963336</td>\n",
       "    </tr>\n",
       "    <tr>\n",
       "      <th>2014-06-30</th>\n",
       "      <td>-0.117301</td>\n",
       "      <td>-0.118232</td>\n",
       "      <td>-0.116295</td>\n",
       "      <td>-0.116193</td>\n",
       "      <td>0.470369</td>\n",
       "      <td>-0.479918</td>\n",
       "      <td>0.071429</td>\n",
       "      <td>0.086851</td>\n",
       "      <td>0.085607</td>\n",
       "      <td>0.087710</td>\n",
       "      <td>0.087695</td>\n",
       "      <td>-0.212189</td>\n",
       "      <td>4.843859</td>\n",
       "      <td>0.085090</td>\n",
       "      <td>21.364958</td>\n",
       "    </tr>\n",
       "    <tr>\n",
       "      <th>2014-10-31</th>\n",
       "      <td>-0.791169</td>\n",
       "      <td>-0.790918</td>\n",
       "      <td>-0.791577</td>\n",
       "      <td>-0.791388</td>\n",
       "      <td>2.193285</td>\n",
       "      <td>-0.862069</td>\n",
       "      <td>-0.066667</td>\n",
       "      <td>0.204090</td>\n",
       "      <td>0.205643</td>\n",
       "      <td>0.202155</td>\n",
       "      <td>0.203402</td>\n",
       "      <td>-0.148580</td>\n",
       "      <td>-0.939727</td>\n",
       "      <td>0.204384</td>\n",
       "      <td>-0.320478</td>\n",
       "    </tr>\n",
       "    <tr>\n",
       "      <th>2015-02-28</th>\n",
       "      <td>0.163973</td>\n",
       "      <td>0.165488</td>\n",
       "      <td>0.161063</td>\n",
       "      <td>0.163175</td>\n",
       "      <td>-0.027866</td>\n",
       "      <td>1.175000</td>\n",
       "      <td>0.000000</td>\n",
       "      <td>0.171505</td>\n",
       "      <td>0.173026</td>\n",
       "      <td>0.168578</td>\n",
       "      <td>0.170702</td>\n",
       "      <td>-0.027866</td>\n",
       "      <td>-1.708166</td>\n",
       "      <td>0.170095</td>\n",
       "      <td>0.252174</td>\n",
       "    </tr>\n",
       "    <tr>\n",
       "      <th>2015-06-30</th>\n",
       "      <td>0.107175</td>\n",
       "      <td>0.104163</td>\n",
       "      <td>0.109082</td>\n",
       "      <td>0.105495</td>\n",
       "      <td>-0.138736</td>\n",
       "      <td>-0.479349</td>\n",
       "      <td>0.000000</td>\n",
       "      <td>0.112804</td>\n",
       "      <td>0.109775</td>\n",
       "      <td>0.114724</td>\n",
       "      <td>0.111115</td>\n",
       "      <td>-0.138736</td>\n",
       "      <td>6.574604</td>\n",
       "      <td>0.113959</td>\n",
       "      <td>-1.142018</td>\n",
       "    </tr>\n",
       "  </tbody>\n",
       "</table>\n",
       "</div>"
      ],
      "text/plain": [
       "                Open      High       Low     Close    Volume  Ex-Dividend  \\\n",
       "Date                                                                        \n",
       "2014-02-28  0.065893  0.065174  0.067736  0.064871 -0.024403          inf   \n",
       "2014-06-30 -0.117301 -0.118232 -0.116295 -0.116193  0.470369    -0.479918   \n",
       "2014-10-31 -0.791169 -0.790918 -0.791577 -0.791388  2.193285    -0.862069   \n",
       "2015-02-28  0.163973  0.165488  0.161063  0.163175 -0.027866     1.175000   \n",
       "2015-06-30  0.107175  0.104163  0.109082  0.105495 -0.138736    -0.479349   \n",
       "\n",
       "            Split Ratio  Adj. Open  Adj. High  Adj. Low  Adj. Close  \\\n",
       "Date                                                                  \n",
       "2014-02-28     0.000000   0.073151   0.072428  0.075007    0.072123   \n",
       "2014-06-30     0.071429   0.086851   0.085607  0.087710    0.087695   \n",
       "2014-10-31    -0.066667   0.204090   0.205643  0.202155    0.203402   \n",
       "2015-02-28     0.000000   0.171505   0.173026  0.168578    0.170702   \n",
       "2015-06-30     0.000000   0.112804   0.109775  0.114724    0.111115   \n",
       "\n",
       "            Adj. Volume      diff  Shift Adj.Close  Daily Return  \n",
       "Date                                                              \n",
       "2014-02-28    -0.024403 -0.798747         0.073620     -0.963336  \n",
       "2014-06-30    -0.212189  4.843859         0.085090     21.364958  \n",
       "2014-10-31    -0.148580 -0.939727         0.204384     -0.320478  \n",
       "2015-02-28    -0.027866 -1.708166         0.170095      0.252174  \n",
       "2015-06-30    -0.138736  6.574604         0.113959     -1.142018  "
      ]
     },
     "execution_count": 18,
     "metadata": {},
     "output_type": "execute_result"
    }
   ],
   "source": [
    "print(\" Quarterly Percentage Change\" + \"-\"*12)\n",
    "print('\\n')\n",
    "quarter.pct_change().iloc[1:].head()"
   ]
  },
  {
   "cell_type": "markdown",
   "metadata": {},
   "source": [
    "The table returns the stock values for every 4 months. We can find half yearly and yearly return values too."
   ]
  },
  {
   "cell_type": "code",
   "execution_count": 19,
   "metadata": {},
   "outputs": [
    {
     "name": "stdout",
     "output_type": "stream",
     "text": [
      "        Adj. Close\n",
      "count  1069.000000\n",
      "mean      0.001002\n",
      "std       0.014100\n",
      "min      -0.079927\n",
      "25%      -0.005704\n",
      "50%       0.000755\n",
      "75%       0.008412\n",
      "max       0.081982\n"
     ]
    },
    {
     "data": {
      "image/png": "[encoded data removed]",
      "text/plain": [
       "<matplotlib.figure.Figure at 0xb1c7470>"
      ]
     },
     "metadata": {},
     "output_type": "display_data"
    }
   ],
   "source": [
    "daily_pct_c.hist(bins=50)\n",
    "plt.xlabel(\"Percentage Change\")\n",
    "print(daily_pct_c.describe())"
   ]
  },
  {
   "cell_type": "markdown",
   "metadata": {},
   "source": [
    "## Cumulative Returns"
   ]
  },
  {
   "cell_type": "markdown",
   "metadata": {},
   "source": [
    "The simple cumulative daily return is calculated by taking the cumulative product of the daily percentage change.\n",
    "https://www.packtpub.com/mapt/book/big_data_and_business_intelligence/9781787123137/15/ch15lvl1sec127/calculating-simple-daily-cumulative-returns-of-a-stock"
   ]
  },
  {
   "cell_type": "code",
   "execution_count": 20,
   "metadata": {},
   "outputs": [
    {
     "data": {
      "text/html": [
       "<div>\n",
       "<style scoped>\n",
       "    .dataframe tbody tr th:only-of-type {\n",
       "        vertical-align: middle;\n",
       "    }\n",
       "\n",
       "    .dataframe tbody tr th {\n",
       "        vertical-align: top;\n",
       "    }\n",
       "\n",
       "    .dataframe thead th {\n",
       "        text-align: right;\n",
       "    }\n",
       "</style>\n",
       "<table border=\"1\" class=\"dataframe\">\n",
       "  <thead>\n",
       "    <tr style=\"text-align: right;\">\n",
       "      <th></th>\n",
       "      <th>Adj. Close</th>\n",
       "    </tr>\n",
       "    <tr>\n",
       "      <th>Date</th>\n",
       "      <th></th>\n",
       "    </tr>\n",
       "  </thead>\n",
       "  <tbody>\n",
       "    <tr>\n",
       "      <th>2013-10-01</th>\n",
       "      <td>1.000000</td>\n",
       "    </tr>\n",
       "    <tr>\n",
       "      <th>2013-10-02</th>\n",
       "      <td>1.003279</td>\n",
       "    </tr>\n",
       "    <tr>\n",
       "      <th>2013-10-03</th>\n",
       "      <td>0.990675</td>\n",
       "    </tr>\n",
       "    <tr>\n",
       "      <th>2013-10-04</th>\n",
       "      <td>0.989897</td>\n",
       "    </tr>\n",
       "    <tr>\n",
       "      <th>2013-10-07</th>\n",
       "      <td>0.999570</td>\n",
       "    </tr>\n",
       "  </tbody>\n",
       "</table>\n",
       "</div>"
      ],
      "text/plain": [
       "            Adj. Close\n",
       "Date                  \n",
       "2013-10-01    1.000000\n",
       "2013-10-02    1.003279\n",
       "2013-10-03    0.990675\n",
       "2013-10-04    0.989897\n",
       "2013-10-07    0.999570"
      ]
     },
     "execution_count": 20,
     "metadata": {},
     "output_type": "execute_result"
    }
   ],
   "source": [
    "cum_daily_return = (1+daily_pct_c).cumprod()\n",
    "cum_daily_return.head()"
   ]
  },
  {
   "cell_type": "code",
   "execution_count": 21,
   "metadata": {},
   "outputs": [
    {
     "data": {
      "text/plain": [
       "Text(0,0.5,u'Percentage Change')"
      ]
     },
     "execution_count": 21,
     "metadata": {},
     "output_type": "execute_result"
    },
    {
     "data": {
      "image/png": "[encoded data removed]",
      "text/plain": [
       "<matplotlib.figure.Figure at 0xb87b358>"
      ]
     },
     "metadata": {},
     "output_type": "display_data"
    }
   ],
   "source": [
    "plt.figure(figsize=(15,10))\n",
    "plt.plot(cum_daily_return)\n",
    "plt.xticks(rotation = 45)\n",
    "plt.grid()\n",
    "plt.xlabel('\\nCummulative Daily Return')\n",
    "plt.ylabel(\"Percentage Change\")\n"
   ]
  },
  {
   "cell_type": "code",
   "execution_count": 22,
   "metadata": {},
   "outputs": [
    {
     "data": {
      "text/html": [
       "<div>\n",
       "<style scoped>\n",
       "    .dataframe tbody tr th:only-of-type {\n",
       "        vertical-align: middle;\n",
       "    }\n",
       "\n",
       "    .dataframe tbody tr th {\n",
       "        vertical-align: top;\n",
       "    }\n",
       "\n",
       "    .dataframe thead th {\n",
       "        text-align: right;\n",
       "    }\n",
       "</style>\n",
       "<table border=\"1\" class=\"dataframe\">\n",
       "  <thead>\n",
       "    <tr style=\"text-align: right;\">\n",
       "      <th></th>\n",
       "      <th>Adj. Close</th>\n",
       "    </tr>\n",
       "    <tr>\n",
       "      <th>Date</th>\n",
       "      <th></th>\n",
       "    </tr>\n",
       "  </thead>\n",
       "  <tbody>\n",
       "    <tr>\n",
       "      <th>2013-10-31</th>\n",
       "      <td>1.034397</td>\n",
       "    </tr>\n",
       "    <tr>\n",
       "      <th>2013-11-30</th>\n",
       "      <td>1.080473</td>\n",
       "    </tr>\n",
       "    <tr>\n",
       "      <th>2013-12-31</th>\n",
       "      <td>1.153649</td>\n",
       "    </tr>\n",
       "    <tr>\n",
       "      <th>2014-01-31</th>\n",
       "      <td>1.107862</td>\n",
       "    </tr>\n",
       "    <tr>\n",
       "      <th>2014-02-28</th>\n",
       "      <td>1.090941</td>\n",
       "    </tr>\n",
       "  </tbody>\n",
       "</table>\n",
       "</div>"
      ],
      "text/plain": [
       "            Adj. Close\n",
       "Date                  \n",
       "2013-10-31    1.034397\n",
       "2013-11-30    1.080473\n",
       "2013-12-31    1.153649\n",
       "2014-01-31    1.107862\n",
       "2014-02-28    1.090941"
      ]
     },
     "execution_count": 22,
     "metadata": {},
     "output_type": "execute_result"
    }
   ],
   "source": [
    "cum_monthly_return = cum_daily_return.resample(\"M\").mean()\n",
    "cum_monthly_return.head()\n"
   ]
  },
  {
   "cell_type": "code",
   "execution_count": 23,
   "metadata": {},
   "outputs": [
    {
     "data": {
      "text/plain": [
       "Text(0,0.5,u'Percentage Change')"
      ]
     },
     "execution_count": 23,
     "metadata": {},
     "output_type": "execute_result"
    },
    {
     "data": {
      "image/png": "[encoded data removed]",
      "text/plain": [
       "<matplotlib.figure.Figure at 0xb99b898>"
      ]
     },
     "metadata": {},
     "output_type": "display_data"
    }
   ],
   "source": [
    "plt.figure(figsize=(15,10))\n",
    "plt.plot(cum_monthly_return)\n",
    "plt.xticks(rotation = 45)\n",
    "plt.grid()\n",
    "plt.xlabel('\\nCummulative Monthly Return')\n",
    "plt.ylabel(\"Percentage Change\")\n"
   ]
  },
  {
   "cell_type": "code",
   "execution_count": 24,
   "metadata": {},
   "outputs": [
    {
     "data": {
      "text/html": [
       "<div>\n",
       "<style scoped>\n",
       "    .dataframe tbody tr th:only-of-type {\n",
       "        vertical-align: middle;\n",
       "    }\n",
       "\n",
       "    .dataframe tbody tr th {\n",
       "        vertical-align: top;\n",
       "    }\n",
       "\n",
       "    .dataframe thead th {\n",
       "        text-align: right;\n",
       "    }\n",
       "</style>\n",
       "<table border=\"1\" class=\"dataframe\">\n",
       "  <thead>\n",
       "    <tr style=\"text-align: right;\">\n",
       "      <th></th>\n",
       "      <th>Adj. Close</th>\n",
       "    </tr>\n",
       "    <tr>\n",
       "      <th>Date</th>\n",
       "      <th></th>\n",
       "    </tr>\n",
       "  </thead>\n",
       "  <tbody>\n",
       "    <tr>\n",
       "      <th>2013-12-31</th>\n",
       "      <td>1.087925</td>\n",
       "    </tr>\n",
       "    <tr>\n",
       "      <th>2014-12-31</th>\n",
       "      <td>1.348145</td>\n",
       "    </tr>\n",
       "    <tr>\n",
       "      <th>2015-12-31</th>\n",
       "      <td>1.783868</td>\n",
       "    </tr>\n",
       "    <tr>\n",
       "      <th>2016-12-31</th>\n",
       "      <td>1.586685</td>\n",
       "    </tr>\n",
       "    <tr>\n",
       "      <th>2017-12-31</th>\n",
       "      <td>2.323325</td>\n",
       "    </tr>\n",
       "  </tbody>\n",
       "</table>\n",
       "</div>"
      ],
      "text/plain": [
       "            Adj. Close\n",
       "Date                  \n",
       "2013-12-31    1.087925\n",
       "2014-12-31    1.348145\n",
       "2015-12-31    1.783868\n",
       "2016-12-31    1.586685\n",
       "2017-12-31    2.323325"
      ]
     },
     "execution_count": 24,
     "metadata": {},
     "output_type": "execute_result"
    }
   ],
   "source": [
    "cum_yearly_return = cum_daily_return.resample(\"Y\").mean()\n",
    "cum_yearly_return.head()"
   ]
  },
  {
   "cell_type": "code",
   "execution_count": 25,
   "metadata": {},
   "outputs": [
    {
     "data": {
      "text/plain": [
       "Text(0,0.5,u'Percentage Change')"
      ]
     },
     "execution_count": 25,
     "metadata": {},
     "output_type": "execute_result"
    },
    {
     "data": {
      "image/png": "[encoded data removed]",
      "text/plain": [
       "<matplotlib.figure.Figure at 0xb7fe518>"
      ]
     },
     "metadata": {},
     "output_type": "display_data"
    }
   ],
   "source": [
    "plt.figure(figsize=(10,7))\n",
    "plt.plot(cum_yearly_return)\n",
    "plt.xticks(rotation = 45)\n",
    "plt.grid()\n",
    "plt.xlabel('\\nCummulative Yearly Return')\n",
    "plt.ylabel(\"Percentage Change\")"
   ]
  },
  {
   "cell_type": "markdown",
   "metadata": {},
   "source": [
    "## Comparing Stocks"
   ]
  },
  {
   "cell_type": "code",
   "execution_count": 26,
   "metadata": {},
   "outputs": [],
   "source": [
    "all_data = pd.read_csv(\"https://s3.amazonaws.com/assets.datacamp.com/blog_assets/all_stock_data.csv\", index_col= [0,1], header=0, parse_dates=[1])"
   ]
  },
  {
   "cell_type": "code",
   "execution_count": 27,
   "metadata": {},
   "outputs": [
    {
     "data": {
      "text/html": [
       "<div>\n",
       "<style scoped>\n",
       "    .dataframe tbody tr th:only-of-type {\n",
       "        vertical-align: middle;\n",
       "    }\n",
       "\n",
       "    .dataframe tbody tr th {\n",
       "        vertical-align: top;\n",
       "    }\n",
       "\n",
       "    .dataframe thead th {\n",
       "        text-align: right;\n",
       "    }\n",
       "</style>\n",
       "<table border=\"1\" class=\"dataframe\">\n",
       "  <thead>\n",
       "    <tr style=\"text-align: right;\">\n",
       "      <th></th>\n",
       "      <th></th>\n",
       "      <th>Open</th>\n",
       "      <th>High</th>\n",
       "      <th>Low</th>\n",
       "      <th>Close</th>\n",
       "      <th>Adj Close</th>\n",
       "      <th>Volume</th>\n",
       "    </tr>\n",
       "    <tr>\n",
       "      <th>Ticker</th>\n",
       "      <th>Date</th>\n",
       "      <th></th>\n",
       "      <th></th>\n",
       "      <th></th>\n",
       "      <th></th>\n",
       "      <th></th>\n",
       "      <th></th>\n",
       "    </tr>\n",
       "  </thead>\n",
       "  <tbody>\n",
       "    <tr>\n",
       "      <th rowspan=\"2\" valign=\"top\">IBM</th>\n",
       "      <th>2008-11-11</th>\n",
       "      <td>83.250000</td>\n",
       "      <td>84.290001</td>\n",
       "      <td>80.250000</td>\n",
       "      <td>82.739998</td>\n",
       "      <td>82.739998</td>\n",
       "      <td>10013600</td>\n",
       "    </tr>\n",
       "    <tr>\n",
       "      <th>2010-04-09</th>\n",
       "      <td>127.879997</td>\n",
       "      <td>128.869995</td>\n",
       "      <td>127.120003</td>\n",
       "      <td>128.759995</td>\n",
       "      <td>128.759995</td>\n",
       "      <td>5185100</td>\n",
       "    </tr>\n",
       "    <tr>\n",
       "      <th>GOOG</th>\n",
       "      <th>2008-12-18</th>\n",
       "      <td>157.758682</td>\n",
       "      <td>159.576874</td>\n",
       "      <td>153.977859</td>\n",
       "      <td>309.430481</td>\n",
       "      <td>154.560669</td>\n",
       "      <td>9562600</td>\n",
       "    </tr>\n",
       "    <tr>\n",
       "      <th>IBM</th>\n",
       "      <th>2010-08-19</th>\n",
       "      <td>128.669998</td>\n",
       "      <td>129.589996</td>\n",
       "      <td>128.020004</td>\n",
       "      <td>128.899994</td>\n",
       "      <td>128.899994</td>\n",
       "      <td>5402400</td>\n",
       "    </tr>\n",
       "    <tr>\n",
       "      <th>GOOG</th>\n",
       "      <th>2010-01-13</th>\n",
       "      <td>287.168610</td>\n",
       "      <td>293.091431</td>\n",
       "      <td>285.878448</td>\n",
       "      <td>585.482544</td>\n",
       "      <td>292.448822</td>\n",
       "      <td>13041800</td>\n",
       "    </tr>\n",
       "    <tr>\n",
       "      <th rowspan=\"2\" valign=\"top\">AAPL</th>\n",
       "      <th>2007-02-21</th>\n",
       "      <td>12.282857</td>\n",
       "      <td>12.784286</td>\n",
       "      <td>12.280000</td>\n",
       "      <td>89.199997</td>\n",
       "      <td>12.742857</td>\n",
       "      <td>288828400</td>\n",
       "    </tr>\n",
       "    <tr>\n",
       "      <th>2009-02-26</th>\n",
       "      <td>13.142858</td>\n",
       "      <td>13.274285</td>\n",
       "      <td>12.708571</td>\n",
       "      <td>89.190002</td>\n",
       "      <td>12.741428</td>\n",
       "      <td>157467100</td>\n",
       "    </tr>\n",
       "    <tr>\n",
       "      <th rowspan=\"2\" valign=\"top\">MSFT</th>\n",
       "      <th>2011-12-29</th>\n",
       "      <td>25.950001</td>\n",
       "      <td>26.049999</td>\n",
       "      <td>25.860001</td>\n",
       "      <td>26.020000</td>\n",
       "      <td>26.020000</td>\n",
       "      <td>22616900</td>\n",
       "    </tr>\n",
       "    <tr>\n",
       "      <th>2009-09-17</th>\n",
       "      <td>25.059999</td>\n",
       "      <td>25.379999</td>\n",
       "      <td>25.059999</td>\n",
       "      <td>25.299999</td>\n",
       "      <td>25.299999</td>\n",
       "      <td>42428800</td>\n",
       "    </tr>\n",
       "    <tr>\n",
       "      <th>IBM</th>\n",
       "      <th>2008-03-20</th>\n",
       "      <td>117.089996</td>\n",
       "      <td>118.480003</td>\n",
       "      <td>116.650002</td>\n",
       "      <td>118.330002</td>\n",
       "      <td>118.330002</td>\n",
       "      <td>11417900</td>\n",
       "    </tr>\n",
       "    <tr>\n",
       "      <th>GOOG</th>\n",
       "      <th>2009-03-10</th>\n",
       "      <td>148.568130</td>\n",
       "      <td>154.670258</td>\n",
       "      <td>146.575592</td>\n",
       "      <td>307.326263</td>\n",
       "      <td>153.509613</td>\n",
       "      <td>13510700</td>\n",
       "    </tr>\n",
       "    <tr>\n",
       "      <th>MSFT</th>\n",
       "      <th>2006-10-13</th>\n",
       "      <td>28.340000</td>\n",
       "      <td>28.690001</td>\n",
       "      <td>28.309999</td>\n",
       "      <td>28.370001</td>\n",
       "      <td>28.370001</td>\n",
       "      <td>129751900</td>\n",
       "    </tr>\n",
       "    <tr>\n",
       "      <th>GOOG</th>\n",
       "      <th>2011-02-02</th>\n",
       "      <td>304.359192</td>\n",
       "      <td>306.022949</td>\n",
       "      <td>302.630676</td>\n",
       "      <td>610.324402</td>\n",
       "      <td>304.857330</td>\n",
       "      <td>3534500</td>\n",
       "    </tr>\n",
       "    <tr>\n",
       "      <th>IBM</th>\n",
       "      <th>2007-03-16</th>\n",
       "      <td>94.449997</td>\n",
       "      <td>94.449997</td>\n",
       "      <td>93.019997</td>\n",
       "      <td>93.250000</td>\n",
       "      <td>93.250000</td>\n",
       "      <td>8728700</td>\n",
       "    </tr>\n",
       "    <tr>\n",
       "      <th>GOOG</th>\n",
       "      <th>2007-11-19</th>\n",
       "      <td>313.619476</td>\n",
       "      <td>317.196075</td>\n",
       "      <td>308.095184</td>\n",
       "      <td>624.136475</td>\n",
       "      <td>311.756470</td>\n",
       "      <td>11096100</td>\n",
       "    </tr>\n",
       "    <tr>\n",
       "      <th>IBM</th>\n",
       "      <th>2007-02-06</th>\n",
       "      <td>100.000000</td>\n",
       "      <td>100.400002</td>\n",
       "      <td>99.540001</td>\n",
       "      <td>99.849998</td>\n",
       "      <td>99.849998</td>\n",
       "      <td>6532800</td>\n",
       "    </tr>\n",
       "    <tr>\n",
       "      <th>MSFT</th>\n",
       "      <th>2010-01-19</th>\n",
       "      <td>30.750000</td>\n",
       "      <td>31.240000</td>\n",
       "      <td>30.680000</td>\n",
       "      <td>31.100000</td>\n",
       "      <td>31.100000</td>\n",
       "      <td>46575700</td>\n",
       "    </tr>\n",
       "    <tr>\n",
       "      <th>IBM</th>\n",
       "      <th>2009-02-18</th>\n",
       "      <td>91.169998</td>\n",
       "      <td>92.250000</td>\n",
       "      <td>90.440002</td>\n",
       "      <td>91.510002</td>\n",
       "      <td>91.510002</td>\n",
       "      <td>8492600</td>\n",
       "    </tr>\n",
       "    <tr>\n",
       "      <th>AAPL</th>\n",
       "      <th>2008-05-05</th>\n",
       "      <td>25.988571</td>\n",
       "      <td>26.472857</td>\n",
       "      <td>25.864286</td>\n",
       "      <td>184.729996</td>\n",
       "      <td>26.389999</td>\n",
       "      <td>213639300</td>\n",
       "    </tr>\n",
       "    <tr>\n",
       "      <th>GOOG</th>\n",
       "      <th>2008-07-10</th>\n",
       "      <td>271.482422</td>\n",
       "      <td>273.724030</td>\n",
       "      <td>264.369080</td>\n",
       "      <td>539.089966</td>\n",
       "      <td>269.275696</td>\n",
       "      <td>8695800</td>\n",
       "    </tr>\n",
       "  </tbody>\n",
       "</table>\n",
       "</div>"
      ],
      "text/plain": [
       "                         Open        High         Low       Close   Adj Close  \\\n",
       "Ticker Date                                                                     \n",
       "IBM    2008-11-11   83.250000   84.290001   80.250000   82.739998   82.739998   \n",
       "       2010-04-09  127.879997  128.869995  127.120003  128.759995  128.759995   \n",
       "GOOG   2008-12-18  157.758682  159.576874  153.977859  309.430481  154.560669   \n",
       "IBM    2010-08-19  128.669998  129.589996  128.020004  128.899994  128.899994   \n",
       "GOOG   2010-01-13  287.168610  293.091431  285.878448  585.482544  292.448822   \n",
       "AAPL   2007-02-21   12.282857   12.784286   12.280000   89.199997   12.742857   \n",
       "       2009-02-26   13.142858   13.274285   12.708571   89.190002   12.741428   \n",
       "MSFT   2011-12-29   25.950001   26.049999   25.860001   26.020000   26.020000   \n",
       "       2009-09-17   25.059999   25.379999   25.059999   25.299999   25.299999   \n",
       "IBM    2008-03-20  117.089996  118.480003  116.650002  118.330002  118.330002   \n",
       "GOOG   2009-03-10  148.568130  154.670258  146.575592  307.326263  153.509613   \n",
       "MSFT   2006-10-13   28.340000   28.690001   28.309999   28.370001   28.370001   \n",
       "GOOG   2011-02-02  304.359192  306.022949  302.630676  610.324402  304.857330   \n",
       "IBM    2007-03-16   94.449997   94.449997   93.019997   93.250000   93.250000   \n",
       "GOOG   2007-11-19  313.619476  317.196075  308.095184  624.136475  311.756470   \n",
       "IBM    2007-02-06  100.000000  100.400002   99.540001   99.849998   99.849998   \n",
       "MSFT   2010-01-19   30.750000   31.240000   30.680000   31.100000   31.100000   \n",
       "IBM    2009-02-18   91.169998   92.250000   90.440002   91.510002   91.510002   \n",
       "AAPL   2008-05-05   25.988571   26.472857   25.864286  184.729996   26.389999   \n",
       "GOOG   2008-07-10  271.482422  273.724030  264.369080  539.089966  269.275696   \n",
       "\n",
       "                      Volume  \n",
       "Ticker Date                   \n",
       "IBM    2008-11-11   10013600  \n",
       "       2010-04-09    5185100  \n",
       "GOOG   2008-12-18    9562600  \n",
       "IBM    2010-08-19    5402400  \n",
       "GOOG   2010-01-13   13041800  \n",
       "AAPL   2007-02-21  288828400  \n",
       "       2009-02-26  157467100  \n",
       "MSFT   2011-12-29   22616900  \n",
       "       2009-09-17   42428800  \n",
       "IBM    2008-03-20   11417900  \n",
       "GOOG   2009-03-10   13510700  \n",
       "MSFT   2006-10-13  129751900  \n",
       "GOOG   2011-02-02    3534500  \n",
       "IBM    2007-03-16    8728700  \n",
       "GOOG   2007-11-19   11096100  \n",
       "IBM    2007-02-06    6532800  \n",
       "MSFT   2010-01-19   46575700  \n",
       "IBM    2009-02-18    8492600  \n",
       "AAPL   2008-05-05  213639300  \n",
       "GOOG   2008-07-10    8695800  "
      ]
     },
     "execution_count": 27,
     "metadata": {},
     "output_type": "execute_result"
    }
   ],
   "source": [
    "all_data.sample(20)"
   ]
  },
  {
   "cell_type": "markdown",
   "metadata": {},
   "source": [
    "Now we have not only stock data of Apple, but of companies like Google, Microsoft and IBM too."
   ]
  },
  {
   "cell_type": "code",
   "execution_count": 28,
   "metadata": {},
   "outputs": [
    {
     "data": {
      "text/plain": [
       "Open         0\n",
       "High         0\n",
       "Low          0\n",
       "Close        0\n",
       "Adj Close    0\n",
       "Volume       0\n",
       "dtype: int64"
      ]
     },
     "execution_count": 28,
     "metadata": {},
     "output_type": "execute_result"
    }
   ],
   "source": [
    "all_data.isnull().sum()"
   ]
  },
  {
   "cell_type": "markdown",
   "metadata": {},
   "source": [
    "The table has no null values , i.e no cells are empty."
   ]
  },
  {
   "cell_type": "code",
   "execution_count": 29,
   "metadata": {},
   "outputs": [],
   "source": [
    "daily_close_px = all_data[['Adj Close']].reset_index().pivot('Date', 'Ticker', 'Adj Close')"
   ]
  },
  {
   "cell_type": "code",
   "execution_count": 30,
   "metadata": {},
   "outputs": [
    {
     "data": {
      "image/png": "[encoded data removed]",
      "text/plain": [
       "<matplotlib.figure.Figure at 0xa3238d0>"
      ]
     },
     "metadata": {},
     "output_type": "display_data"
    }
   ],
   "source": [
    "daily_pct_change = daily_close_px.pct_change()\n",
    "daily_pct_change.hist(bins=50, sharex=True, figsize=(15,10))\n",
    "plt.xlabel(\"Daily Percent Change\")\n",
    "plt.show()"
   ]
  },
  {
   "cell_type": "code",
   "execution_count": 31,
   "metadata": {},
   "outputs": [
    {
     "data": {
      "image/png": "[encoded data removed]",
      "text/plain": [
       "<matplotlib.figure.Figure at 0xb28b5c0>"
      ]
     },
     "metadata": {},
     "output_type": "display_data"
    }
   ],
   "source": [
    "pd.plotting.scatter_matrix(daily_pct_change, diagonal='kde', alpha=0.1,figsize=(12,12))\n",
    "plt.show()"
   ]
  },
  {
   "cell_type": "markdown",
   "metadata": {},
   "source": [
    "# Moving Windows"
   ]
  },
  {
   "cell_type": "markdown",
   "metadata": {},
   "source": [
    "Snapshot of a portion of a time series at an instant in time. The window is moved along the time series at a constant rate."
   ]
  },
  {
   "cell_type": "markdown",
   "metadata": {},
   "source": [
    "The simplest form of a moving average, appropriately known as a simple moving average (SMA), is calculated by taking the arithmetic mean of a given set of values. "
   ]
  },
  {
   "cell_type": "code",
   "execution_count": 32,
   "metadata": {},
   "outputs": [
    {
     "data": {
      "text/plain": [
       "Date\n",
       "2017-12-01    165.636375\n",
       "2017-12-04    165.996625\n",
       "2017-12-05    166.355125\n",
       "2017-12-06    166.684375\n",
       "2017-12-07    167.023175\n",
       "2017-12-08    167.343675\n",
       "2017-12-11    167.760425\n",
       "2017-12-12    168.128175\n",
       "2017-12-13    168.437925\n",
       "2017-12-14    168.731675\n",
       "2017-12-15    169.084425\n",
       "2017-12-18    169.595425\n",
       "2017-12-19    170.054925\n",
       "2017-12-20    170.509425\n",
       "2017-12-21    170.957175\n",
       "2017-12-22    171.422300\n",
       "2017-12-26    171.751300\n",
       "2017-12-27    171.940050\n",
       "2017-12-28    172.049050\n",
       "2017-12-29    172.053800\n",
       "Name: Adj. Close, dtype: float64"
      ]
     },
     "execution_count": 32,
     "metadata": {},
     "output_type": "execute_result"
    }
   ],
   "source": [
    "# Isolate the adjusted closing prices \n",
    "adj_close_px = aapl['Adj. Close']\n",
    "\n",
    "# Calculate the moving average\n",
    "moving_avg = adj_close_px.rolling(window=40).mean()\n",
    "\n",
    "# Inspect the result\n",
    "moving_avg[-20:]"
   ]
  },
  {
   "cell_type": "markdown",
   "metadata": {},
   "source": [
    "We have used a short window here of 40 days. Let's take at a longer window mean."
   ]
  },
  {
   "cell_type": "code",
   "execution_count": 33,
   "metadata": {},
   "outputs": [
    {
     "data": {
      "image/png": "[encoded data removed]",
      "text/plain": [
       "<matplotlib.figure.Figure at 0xb8198d0>"
      ]
     },
     "metadata": {},
     "output_type": "display_data"
    }
   ],
   "source": [
    "aapl['42'] = adj_close_px.rolling(window=40).mean()\n",
    "aapl['152'] = adj_close_px.rolling(window=152).mean()\n",
    "aapl['252'] = adj_close_px.rolling(window=252).mean()\n",
    "aapl['352'] = adj_close_px.rolling(window=352).mean()\n",
    "\n",
    "aapl[['Adj. Close', '42', '152','252','352']].plot()\n",
    "\n",
    "plt.show()"
   ]
  },
  {
   "cell_type": "markdown",
   "metadata": {},
   "source": [
    "# Volatility Calculation"
   ]
  },
  {
   "cell_type": "markdown",
   "metadata": {},
   "source": [
    "Volatility is a statistical measure of the dispersion of returns for a given security or market index. Volatility can either be measured by using the standard deviation or variance between returns from that same security or market index. Commonly, the higher the volatility, the riskier the security."
   ]
  },
  {
   "cell_type": "code",
   "execution_count": 34,
   "metadata": {},
   "outputs": [
    {
     "data": {
      "image/png": "[encoded data removed]",
      "text/plain": [
       "<matplotlib.figure.Figure at 0xdef1828>"
      ]
     },
     "metadata": {},
     "output_type": "display_data"
    }
   ],
   "source": [
    "# Define the minumum of periods to consider \n",
    "min_periods = 75 \n",
    "\n",
    "# Calculate the volatility\n",
    "vol = daily_pct_change.rolling(min_periods).std() * np.sqrt(min_periods) \n",
    "\n",
    "# Plot the volatility\n",
    "vol.plot(figsize=(10, 8))\n",
    "\n",
    "# Show the plot\n",
    "plt.show()"
   ]
  },
  {
   "cell_type": "markdown",
   "metadata": {},
   "source": [
    "So from the plot, we see it is riskier to invest in Apple stock than IBM stock , as Apple stock is the most volatile."
   ]
  },
  {
   "cell_type": "markdown",
   "metadata": {},
   "source": [
    "# Ordinary Least Squares Regression"
   ]
  },
  {
   "cell_type": "code",
   "execution_count": 35,
   "metadata": {},
   "outputs": [
    {
     "name": "stderr",
     "output_type": "stream",
     "text": [
      "C:\\Users\\praga\\Anaconda2\\lib\\site-packages\\statsmodels\\compat\\pandas.py:56: FutureWarning: The pandas.core.datetools module is deprecated and will be removed in a future version. Please use the pandas.tseries module instead.\n",
      "  from pandas.core import datetools\n"
     ]
    }
   ],
   "source": [
    "import statsmodels.api as sm\n",
    "from pandas import tseries\n",
    "from pandas.core import datetools"
   ]
  },
  {
   "cell_type": "code",
   "execution_count": 36,
   "metadata": {},
   "outputs": [
    {
     "data": {
      "text/html": [
       "<div>\n",
       "<style scoped>\n",
       "    .dataframe tbody tr th:only-of-type {\n",
       "        vertical-align: middle;\n",
       "    }\n",
       "\n",
       "    .dataframe tbody tr th {\n",
       "        vertical-align: top;\n",
       "    }\n",
       "\n",
       "    .dataframe thead th {\n",
       "        text-align: right;\n",
       "    }\n",
       "</style>\n",
       "<table border=\"1\" class=\"dataframe\">\n",
       "  <thead>\n",
       "    <tr style=\"text-align: right;\">\n",
       "      <th></th>\n",
       "      <th></th>\n",
       "      <th>Adj Close</th>\n",
       "    </tr>\n",
       "    <tr>\n",
       "      <th>Ticker</th>\n",
       "      <th>Date</th>\n",
       "      <th></th>\n",
       "    </tr>\n",
       "  </thead>\n",
       "  <tbody>\n",
       "    <tr>\n",
       "      <th rowspan=\"3\" valign=\"top\">MSFT</th>\n",
       "      <th>2006-11-20</th>\n",
       "      <td>29.889999</td>\n",
       "    </tr>\n",
       "    <tr>\n",
       "      <th>2007-02-01</th>\n",
       "      <td>30.559999</td>\n",
       "    </tr>\n",
       "    <tr>\n",
       "      <th>2011-03-18</th>\n",
       "      <td>24.799999</td>\n",
       "    </tr>\n",
       "    <tr>\n",
       "      <th>GOOG</th>\n",
       "      <th>2006-12-15</th>\n",
       "      <td>239.253220</td>\n",
       "    </tr>\n",
       "    <tr>\n",
       "      <th>MSFT</th>\n",
       "      <th>2008-09-10</th>\n",
       "      <td>26.440001</td>\n",
       "    </tr>\n",
       "    <tr>\n",
       "      <th>IBM</th>\n",
       "      <th>2009-03-18</th>\n",
       "      <td>91.949997</td>\n",
       "    </tr>\n",
       "  </tbody>\n",
       "</table>\n",
       "</div>"
      ],
      "text/plain": [
       "                    Adj Close\n",
       "Ticker Date                  \n",
       "MSFT   2006-11-20   29.889999\n",
       "       2007-02-01   30.559999\n",
       "       2011-03-18   24.799999\n",
       "GOOG   2006-12-15  239.253220\n",
       "MSFT   2008-09-10   26.440001\n",
       "IBM    2009-03-18   91.949997"
      ]
     },
     "execution_count": 36,
     "metadata": {},
     "output_type": "execute_result"
    }
   ],
   "source": [
    "all_adj_close = all_data[['Adj Close']]\n",
    "all_adj_close.sample(6)"
   ]
  },
  {
   "cell_type": "code",
   "execution_count": 37,
   "metadata": {},
   "outputs": [
    {
     "data": {
      "text/html": [
       "<div>\n",
       "<style scoped>\n",
       "    .dataframe tbody tr th:only-of-type {\n",
       "        vertical-align: middle;\n",
       "    }\n",
       "\n",
       "    .dataframe tbody tr th {\n",
       "        vertical-align: top;\n",
       "    }\n",
       "\n",
       "    .dataframe thead th {\n",
       "        text-align: right;\n",
       "    }\n",
       "</style>\n",
       "<table border=\"1\" class=\"dataframe\">\n",
       "  <thead>\n",
       "    <tr style=\"text-align: right;\">\n",
       "      <th></th>\n",
       "      <th></th>\n",
       "      <th>Adj Close</th>\n",
       "    </tr>\n",
       "    <tr>\n",
       "      <th>Ticker</th>\n",
       "      <th>Date</th>\n",
       "      <th></th>\n",
       "    </tr>\n",
       "  </thead>\n",
       "  <tbody>\n",
       "    <tr>\n",
       "      <th>AAPL</th>\n",
       "      <th>2009-06-04</th>\n",
       "      <td>0.019601</td>\n",
       "    </tr>\n",
       "    <tr>\n",
       "      <th>GOOG</th>\n",
       "      <th>2006-10-19</th>\n",
       "      <td>0.015970</td>\n",
       "    </tr>\n",
       "    <tr>\n",
       "      <th>IBM</th>\n",
       "      <th>2008-12-16</th>\n",
       "      <td>0.042922</td>\n",
       "    </tr>\n",
       "    <tr>\n",
       "      <th rowspan=\"2\" valign=\"top\">GOOG</th>\n",
       "      <th>2010-09-27</th>\n",
       "      <td>0.005900</td>\n",
       "    </tr>\n",
       "    <tr>\n",
       "      <th>2009-07-29</th>\n",
       "      <td>-0.008241</td>\n",
       "    </tr>\n",
       "    <tr>\n",
       "      <th>AAPL</th>\n",
       "      <th>2007-09-21</th>\n",
       "      <td>0.027000</td>\n",
       "    </tr>\n",
       "    <tr>\n",
       "      <th>IBM</th>\n",
       "      <th>2010-11-30</th>\n",
       "      <td>-0.010058</td>\n",
       "    </tr>\n",
       "    <tr>\n",
       "      <th>AAPL</th>\n",
       "      <th>2009-02-27</th>\n",
       "      <td>0.001345</td>\n",
       "    </tr>\n",
       "    <tr>\n",
       "      <th>IBM</th>\n",
       "      <th>2007-05-04</th>\n",
       "      <td>0.001555</td>\n",
       "    </tr>\n",
       "    <tr>\n",
       "      <th>AAPL</th>\n",
       "      <th>2010-01-11</th>\n",
       "      <td>-0.008861</td>\n",
       "    </tr>\n",
       "  </tbody>\n",
       "</table>\n",
       "</div>"
      ],
      "text/plain": [
       "                   Adj Close\n",
       "Ticker Date                 \n",
       "AAPL   2009-06-04   0.019601\n",
       "GOOG   2006-10-19   0.015970\n",
       "IBM    2008-12-16   0.042922\n",
       "GOOG   2010-09-27   0.005900\n",
       "       2009-07-29  -0.008241\n",
       "AAPL   2007-09-21   0.027000\n",
       "IBM    2010-11-30  -0.010058\n",
       "AAPL   2009-02-27   0.001345\n",
       "IBM    2007-05-04   0.001555\n",
       "AAPL   2010-01-11  -0.008861"
      ]
     },
     "execution_count": 37,
     "metadata": {},
     "output_type": "execute_result"
    }
   ],
   "source": [
    "all_returns = np.log(all_adj_close / all_adj_close.shift(1))\n",
    "all_returns.sample(10)"
   ]
  },
  {
   "cell_type": "code",
   "execution_count": 38,
   "metadata": {},
   "outputs": [],
   "source": [
    "# Isolate the AAPL returns \n",
    "aapl_returns = all_returns.iloc[all_returns.index.get_level_values('Ticker') == 'AAPL']\n",
    "aapl_returns.index = aapl_returns.index.droplevel('Ticker')\n",
    "\n",
    "# Isolate the MSFT returns\n",
    "msft_returns = all_returns.iloc[all_returns.index.get_level_values('Ticker') == 'MSFT']\n",
    "msft_returns.index = msft_returns.index.droplevel('Ticker')"
   ]
  },
  {
   "cell_type": "code",
   "execution_count": 39,
   "metadata": {},
   "outputs": [
    {
     "data": {
      "text/html": [
       "<div>\n",
       "<style scoped>\n",
       "    .dataframe tbody tr th:only-of-type {\n",
       "        vertical-align: middle;\n",
       "    }\n",
       "\n",
       "    .dataframe tbody tr th {\n",
       "        vertical-align: top;\n",
       "    }\n",
       "\n",
       "    .dataframe thead th {\n",
       "        text-align: right;\n",
       "    }\n",
       "</style>\n",
       "<table border=\"1\" class=\"dataframe\">\n",
       "  <thead>\n",
       "    <tr style=\"text-align: right;\">\n",
       "      <th></th>\n",
       "      <th>Adj Close</th>\n",
       "    </tr>\n",
       "    <tr>\n",
       "      <th>Date</th>\n",
       "      <th></th>\n",
       "    </tr>\n",
       "  </thead>\n",
       "  <tbody>\n",
       "    <tr>\n",
       "      <th>2006-10-02</th>\n",
       "      <td>NaN</td>\n",
       "    </tr>\n",
       "    <tr>\n",
       "      <th>2006-10-03</th>\n",
       "      <td>-0.010474</td>\n",
       "    </tr>\n",
       "    <tr>\n",
       "      <th>2006-10-04</th>\n",
       "      <td>0.017396</td>\n",
       "    </tr>\n",
       "    <tr>\n",
       "      <th>2006-10-05</th>\n",
       "      <td>-0.007323</td>\n",
       "    </tr>\n",
       "    <tr>\n",
       "      <th>2006-10-06</th>\n",
       "      <td>-0.008185</td>\n",
       "    </tr>\n",
       "    <tr>\n",
       "      <th>2006-10-09</th>\n",
       "      <td>0.005509</td>\n",
       "    </tr>\n",
       "    <tr>\n",
       "      <th>2006-10-10</th>\n",
       "      <td>-0.011048</td>\n",
       "    </tr>\n",
       "    <tr>\n",
       "      <th>2006-10-11</th>\n",
       "      <td>-0.007889</td>\n",
       "    </tr>\n",
       "    <tr>\n",
       "      <th>2006-10-12</th>\n",
       "      <td>0.027344</td>\n",
       "    </tr>\n",
       "    <tr>\n",
       "      <th>2006-10-13</th>\n",
       "      <td>-0.003194</td>\n",
       "    </tr>\n",
       "  </tbody>\n",
       "</table>\n",
       "</div>"
      ],
      "text/plain": [
       "            Adj Close\n",
       "Date                 \n",
       "2006-10-02        NaN\n",
       "2006-10-03  -0.010474\n",
       "2006-10-04   0.017396\n",
       "2006-10-05  -0.007323\n",
       "2006-10-06  -0.008185\n",
       "2006-10-09   0.005509\n",
       "2006-10-10  -0.011048\n",
       "2006-10-11  -0.007889\n",
       "2006-10-12   0.027344\n",
       "2006-10-13  -0.003194"
      ]
     },
     "execution_count": 39,
     "metadata": {},
     "output_type": "execute_result"
    }
   ],
   "source": [
    "aapl_returns.head(10)"
   ]
  },
  {
   "cell_type": "code",
   "execution_count": 40,
   "metadata": {},
   "outputs": [
    {
     "data": {
      "text/html": [
       "<div>\n",
       "<style scoped>\n",
       "    .dataframe tbody tr th:only-of-type {\n",
       "        vertical-align: middle;\n",
       "    }\n",
       "\n",
       "    .dataframe tbody tr th {\n",
       "        vertical-align: top;\n",
       "    }\n",
       "\n",
       "    .dataframe thead th {\n",
       "        text-align: right;\n",
       "    }\n",
       "</style>\n",
       "<table border=\"1\" class=\"dataframe\">\n",
       "  <thead>\n",
       "    <tr style=\"text-align: right;\">\n",
       "      <th></th>\n",
       "      <th>Adj Close</th>\n",
       "    </tr>\n",
       "    <tr>\n",
       "      <th>Date</th>\n",
       "      <th></th>\n",
       "    </tr>\n",
       "  </thead>\n",
       "  <tbody>\n",
       "    <tr>\n",
       "      <th>2006-10-02</th>\n",
       "      <td>-0.748895</td>\n",
       "    </tr>\n",
       "    <tr>\n",
       "      <th>2006-10-03</th>\n",
       "      <td>0.000365</td>\n",
       "    </tr>\n",
       "    <tr>\n",
       "      <th>2006-10-04</th>\n",
       "      <td>0.020612</td>\n",
       "    </tr>\n",
       "    <tr>\n",
       "      <th>2006-10-05</th>\n",
       "      <td>-0.000716</td>\n",
       "    </tr>\n",
       "    <tr>\n",
       "      <th>2006-10-06</th>\n",
       "      <td>-0.001792</td>\n",
       "    </tr>\n",
       "    <tr>\n",
       "      <th>2006-10-09</th>\n",
       "      <td>-0.005397</td>\n",
       "    </tr>\n",
       "    <tr>\n",
       "      <th>2006-10-10</th>\n",
       "      <td>-0.001083</td>\n",
       "    </tr>\n",
       "    <tr>\n",
       "      <th>2006-10-11</th>\n",
       "      <td>-0.005432</td>\n",
       "    </tr>\n",
       "    <tr>\n",
       "      <th>2006-10-12</th>\n",
       "      <td>0.024391</td>\n",
       "    </tr>\n",
       "    <tr>\n",
       "      <th>2006-10-13</th>\n",
       "      <td>0.005301</td>\n",
       "    </tr>\n",
       "  </tbody>\n",
       "</table>\n",
       "</div>"
      ],
      "text/plain": [
       "            Adj Close\n",
       "Date                 \n",
       "2006-10-02  -0.748895\n",
       "2006-10-03   0.000365\n",
       "2006-10-04   0.020612\n",
       "2006-10-05  -0.000716\n",
       "2006-10-06  -0.001792\n",
       "2006-10-09  -0.005397\n",
       "2006-10-10  -0.001083\n",
       "2006-10-11  -0.005432\n",
       "2006-10-12   0.024391\n",
       "2006-10-13   0.005301"
      ]
     },
     "execution_count": 40,
     "metadata": {},
     "output_type": "execute_result"
    }
   ],
   "source": [
    "msft_returns.head(10)"
   ]
  },
  {
   "cell_type": "code",
   "execution_count": 41,
   "metadata": {},
   "outputs": [],
   "source": [
    "# A new DataFrame with AAPL and MSFT returns\n",
    "return_data = pd.concat([aapl_returns, msft_returns], axis=1)[1:]\n",
    "return_data.columns = ['AAPL', 'MSFT']"
   ]
  },
  {
   "cell_type": "code",
   "execution_count": 42,
   "metadata": {},
   "outputs": [
    {
     "data": {
      "text/html": [
       "<div>\n",
       "<style scoped>\n",
       "    .dataframe tbody tr th:only-of-type {\n",
       "        vertical-align: middle;\n",
       "    }\n",
       "\n",
       "    .dataframe tbody tr th {\n",
       "        vertical-align: top;\n",
       "    }\n",
       "\n",
       "    .dataframe thead th {\n",
       "        text-align: right;\n",
       "    }\n",
       "</style>\n",
       "<table border=\"1\" class=\"dataframe\">\n",
       "  <thead>\n",
       "    <tr style=\"text-align: right;\">\n",
       "      <th></th>\n",
       "      <th>AAPL</th>\n",
       "      <th>MSFT</th>\n",
       "    </tr>\n",
       "    <tr>\n",
       "      <th>Date</th>\n",
       "      <th></th>\n",
       "      <th></th>\n",
       "    </tr>\n",
       "  </thead>\n",
       "  <tbody>\n",
       "    <tr>\n",
       "      <th>2010-06-18</th>\n",
       "      <td>0.008060</td>\n",
       "      <td>0.002651</td>\n",
       "    </tr>\n",
       "    <tr>\n",
       "      <th>2010-01-07</th>\n",
       "      <td>-0.001850</td>\n",
       "      <td>-0.010454</td>\n",
       "    </tr>\n",
       "    <tr>\n",
       "      <th>2009-06-26</th>\n",
       "      <td>0.018279</td>\n",
       "      <td>-0.018668</td>\n",
       "    </tr>\n",
       "    <tr>\n",
       "      <th>2007-01-03</th>\n",
       "      <td>-0.012334</td>\n",
       "      <td>0.000000</td>\n",
       "    </tr>\n",
       "    <tr>\n",
       "      <th>2007-08-01</th>\n",
       "      <td>0.024293</td>\n",
       "      <td>0.010637</td>\n",
       "    </tr>\n",
       "    <tr>\n",
       "      <th>2011-06-07</th>\n",
       "      <td>-0.017909</td>\n",
       "      <td>0.002080</td>\n",
       "    </tr>\n",
       "    <tr>\n",
       "      <th>2009-06-25</th>\n",
       "      <td>0.026371</td>\n",
       "      <td>0.013542</td>\n",
       "    </tr>\n",
       "  </tbody>\n",
       "</table>\n",
       "</div>"
      ],
      "text/plain": [
       "                AAPL      MSFT\n",
       "Date                          \n",
       "2010-06-18  0.008060  0.002651\n",
       "2010-01-07 -0.001850 -0.010454\n",
       "2009-06-26  0.018279 -0.018668\n",
       "2007-01-03 -0.012334  0.000000\n",
       "2007-08-01  0.024293  0.010637\n",
       "2011-06-07 -0.017909  0.002080\n",
       "2009-06-25  0.026371  0.013542"
      ]
     },
     "execution_count": 42,
     "metadata": {},
     "output_type": "execute_result"
    }
   ],
   "source": [
    "return_data.sample(7)"
   ]
  },
  {
   "cell_type": "markdown",
   "metadata": {},
   "source": [
    "### OLS model"
   ]
  },
  {
   "cell_type": "code",
   "execution_count": 43,
   "metadata": {},
   "outputs": [
    {
     "name": "stdout",
     "output_type": "stream",
     "text": [
      "                            OLS Regression Results                            \n",
      "==============================================================================\n",
      "Dep. Variable:                   MSFT   R-squared:                       0.280\n",
      "Model:                            OLS   Adj. R-squared:                  0.280\n",
      "Method:                 Least Squares   F-statistic:                     514.2\n",
      "Date:                Thu, 07 Jun 2018   Prob (F-statistic):           2.07e-96\n",
      "Time:                        14:55:21   Log-Likelihood:                 3513.2\n",
      "No. Observations:                1322   AIC:                            -7022.\n",
      "Df Residuals:                    1320   BIC:                            -7012.\n",
      "Df Model:                           1                                         \n",
      "Covariance Type:            nonrobust                                         \n",
      "==============================================================================\n",
      "                 coef    std err          t      P>|t|      [0.025      0.975]\n",
      "------------------------------------------------------------------------------\n",
      "const         -0.0006      0.000     -1.287      0.198      -0.002       0.000\n",
      "AAPL           0.4404      0.019     22.677      0.000       0.402       0.479\n",
      "==============================================================================\n",
      "Omnibus:                      267.360   Durbin-Watson:                   2.071\n",
      "Prob(Omnibus):                  0.000   Jarque-Bera (JB):             6987.230\n",
      "Skew:                          -0.202   Prob(JB):                         0.00\n",
      "Kurtosis:                      14.255   Cond. No.                         41.6\n",
      "==============================================================================\n",
      "\n",
      "Warnings:\n",
      "[1] Standard Errors assume that the covariance matrix of the errors is correctly specified.\n"
     ]
    }
   ],
   "source": [
    "X = sm.add_constant(return_data['AAPL'])\n",
    "\n",
    "# Construct the model\n",
    "model = sm.OLS(return_data['MSFT'],X).fit()\n",
    "\n",
    "# Print the summary\n",
    "print(model.summary())"
   ]
  },
  {
   "cell_type": "code",
   "execution_count": 44,
   "metadata": {},
   "outputs": [
    {
     "data": {
      "image/png": "[encoded data removed]",
      "text/plain": [
       "<matplotlib.figure.Figure at 0x1207d748>"
      ]
     },
     "metadata": {},
     "output_type": "display_data"
    }
   ],
   "source": [
    "plt.plot(return_data['AAPL'], return_data['MSFT'], 'y.')\n",
    "ax = plt.axis()\n",
    "x = np.linspace(ax[0], ax[1])\n",
    "\n",
    "plt.plot(x, model.params[0] + model.params[1] * x,'r', lw=2)\n",
    "\n",
    "\n",
    "plt.grid(True)\n",
    "plt.axis('tight')\n",
    "plt.xlabel('Apple Returns')\n",
    "plt.ylabel('Microsoft returns')\n",
    "\n",
    "plt.show()"
   ]
  },
  {
   "cell_type": "markdown",
   "metadata": {},
   "source": [
    "The Microsoft stock price is related to the Apple stock price by the linear regression equation\n",
    " \n",
    "[MSFT]=  -0.006  +  0.4404 * [AAPL]"
   ]
  },
  {
   "cell_type": "code",
   "execution_count": 45,
   "metadata": {},
   "outputs": [
    {
     "data": {
      "image/png": "[encoded data removed]",
      "text/plain": [
       "<matplotlib.figure.Figure at 0xa709be0>"
      ]
     },
     "metadata": {},
     "output_type": "display_data"
    }
   ],
   "source": [
    "return_data['MSFT'].rolling(window=42).corr(return_data['AAPL']).plot()\n",
    "plt.show()"
   ]
  },
  {
   "cell_type": "code",
   "execution_count": 46,
   "metadata": {},
   "outputs": [
    {
     "data": {
      "image/png": "[encoded data removed]",
      "text/plain": [
       "<matplotlib.figure.Figure at 0x11fcc5c0>"
      ]
     },
     "metadata": {},
     "output_type": "display_data"
    }
   ],
   "source": [
    "return_data['MSFT'].rolling(window=152).corr(return_data['AAPL']).plot()\n",
    "plt.show()"
   ]
  },
  {
   "cell_type": "markdown",
   "metadata": {},
   "source": [
    "This plot shows how the [MSFT] stock price was correlated to the [AAPL] price over the years. The closer the plot is to 1, the stronger the correlation between them both."
   ]
  },
  {
   "cell_type": "markdown",
   "metadata": {},
   "source": [
    "## Building a Trading Strategy"
   ]
  },
  {
   "cell_type": "code",
   "execution_count": 47,
   "metadata": {},
   "outputs": [],
   "source": [
    "# Initialize the short and long windows\n",
    "short_window = 40\n",
    "long_window = 100\n",
    "\n",
    "# Initialize the `signals` DataFrame with the `signal` column\n",
    "signals = pd.DataFrame(index=aapl.index)\n",
    "signals['signal'] = 0.0\n",
    "# Create short simple moving average over the short window\n",
    "signals['short_mavg'] = aapl['Close'].rolling(window=short_window, min_periods=1, center=False).mean()\n",
    "\n",
    "# Create long simple moving average over the long window\n",
    "signals['long_mavg'] = aapl['Close'].rolling(window=long_window, min_periods=1, center=False).mean()"
   ]
  },
  {
   "cell_type": "code",
   "execution_count": 48,
   "metadata": {},
   "outputs": [
    {
     "data": {
      "text/html": [
       "<div>\n",
       "<style scoped>\n",
       "    .dataframe tbody tr th:only-of-type {\n",
       "        vertical-align: middle;\n",
       "    }\n",
       "\n",
       "    .dataframe tbody tr th {\n",
       "        vertical-align: top;\n",
       "    }\n",
       "\n",
       "    .dataframe thead th {\n",
       "        text-align: right;\n",
       "    }\n",
       "</style>\n",
       "<table border=\"1\" class=\"dataframe\">\n",
       "  <thead>\n",
       "    <tr style=\"text-align: right;\">\n",
       "      <th></th>\n",
       "      <th>signal</th>\n",
       "      <th>short_mavg</th>\n",
       "      <th>long_mavg</th>\n",
       "    </tr>\n",
       "    <tr>\n",
       "      <th>Date</th>\n",
       "      <th></th>\n",
       "      <th></th>\n",
       "      <th></th>\n",
       "    </tr>\n",
       "  </thead>\n",
       "  <tbody>\n",
       "    <tr>\n",
       "      <th>2013-10-01</th>\n",
       "      <td>0.0</td>\n",
       "      <td>487.960000</td>\n",
       "      <td>487.960000</td>\n",
       "    </tr>\n",
       "    <tr>\n",
       "      <th>2013-10-02</th>\n",
       "      <td>0.0</td>\n",
       "      <td>488.760000</td>\n",
       "      <td>488.760000</td>\n",
       "    </tr>\n",
       "    <tr>\n",
       "      <th>2013-10-03</th>\n",
       "      <td>0.0</td>\n",
       "      <td>486.976667</td>\n",
       "      <td>486.976667</td>\n",
       "    </tr>\n",
       "    <tr>\n",
       "      <th>2013-10-04</th>\n",
       "      <td>0.0</td>\n",
       "      <td>485.990000</td>\n",
       "      <td>485.990000</td>\n",
       "    </tr>\n",
       "    <tr>\n",
       "      <th>2013-10-07</th>\n",
       "      <td>0.0</td>\n",
       "      <td>486.342000</td>\n",
       "      <td>486.342000</td>\n",
       "    </tr>\n",
       "  </tbody>\n",
       "</table>\n",
       "</div>"
      ],
      "text/plain": [
       "            signal  short_mavg   long_mavg\n",
       "Date                                      \n",
       "2013-10-01     0.0  487.960000  487.960000\n",
       "2013-10-02     0.0  488.760000  488.760000\n",
       "2013-10-03     0.0  486.976667  486.976667\n",
       "2013-10-04     0.0  485.990000  485.990000\n",
       "2013-10-07     0.0  486.342000  486.342000"
      ]
     },
     "execution_count": 48,
     "metadata": {},
     "output_type": "execute_result"
    }
   ],
   "source": [
    "signals.head()"
   ]
  },
  {
   "cell_type": "code",
   "execution_count": 49,
   "metadata": {},
   "outputs": [],
   "source": [
    "# Create signals\n",
    "signals['signal'][short_window:] = np.where(signals['short_mavg'][short_window:] \n",
    "                                            > signals['long_mavg'][short_window:], 1.0, 0.0)   \n",
    "\n",
    "# Generate trading orders\n",
    "signals['positions'] = signals['signal'].diff()"
   ]
  },
  {
   "cell_type": "code",
   "execution_count": 50,
   "metadata": {},
   "outputs": [
    {
     "data": {
      "text/html": [
       "<div>\n",
       "<style scoped>\n",
       "    .dataframe tbody tr th:only-of-type {\n",
       "        vertical-align: middle;\n",
       "    }\n",
       "\n",
       "    .dataframe tbody tr th {\n",
       "        vertical-align: top;\n",
       "    }\n",
       "\n",
       "    .dataframe thead th {\n",
       "        text-align: right;\n",
       "    }\n",
       "</style>\n",
       "<table border=\"1\" class=\"dataframe\">\n",
       "  <thead>\n",
       "    <tr style=\"text-align: right;\">\n",
       "      <th></th>\n",
       "      <th>signal</th>\n",
       "      <th>short_mavg</th>\n",
       "      <th>long_mavg</th>\n",
       "      <th>positions</th>\n",
       "    </tr>\n",
       "    <tr>\n",
       "      <th>Date</th>\n",
       "      <th></th>\n",
       "      <th></th>\n",
       "      <th></th>\n",
       "      <th></th>\n",
       "    </tr>\n",
       "  </thead>\n",
       "  <tbody>\n",
       "    <tr>\n",
       "      <th>2013-10-01</th>\n",
       "      <td>0.0</td>\n",
       "      <td>487.960000</td>\n",
       "      <td>487.960000</td>\n",
       "      <td>NaN</td>\n",
       "    </tr>\n",
       "    <tr>\n",
       "      <th>2013-10-02</th>\n",
       "      <td>0.0</td>\n",
       "      <td>488.760000</td>\n",
       "      <td>488.760000</td>\n",
       "      <td>0.0</td>\n",
       "    </tr>\n",
       "    <tr>\n",
       "      <th>2013-10-03</th>\n",
       "      <td>0.0</td>\n",
       "      <td>486.976667</td>\n",
       "      <td>486.976667</td>\n",
       "      <td>0.0</td>\n",
       "    </tr>\n",
       "    <tr>\n",
       "      <th>2013-10-04</th>\n",
       "      <td>0.0</td>\n",
       "      <td>485.990000</td>\n",
       "      <td>485.990000</td>\n",
       "      <td>0.0</td>\n",
       "    </tr>\n",
       "    <tr>\n",
       "      <th>2013-10-07</th>\n",
       "      <td>0.0</td>\n",
       "      <td>486.342000</td>\n",
       "      <td>486.342000</td>\n",
       "      <td>0.0</td>\n",
       "    </tr>\n",
       "    <tr>\n",
       "      <th>2013-10-08</th>\n",
       "      <td>0.0</td>\n",
       "      <td>485.441667</td>\n",
       "      <td>485.441667</td>\n",
       "      <td>0.0</td>\n",
       "    </tr>\n",
       "    <tr>\n",
       "      <th>2013-10-09</th>\n",
       "      <td>0.0</td>\n",
       "      <td>485.605429</td>\n",
       "      <td>485.605429</td>\n",
       "      <td>0.0</td>\n",
       "    </tr>\n",
       "    <tr>\n",
       "      <th>2013-10-10</th>\n",
       "      <td>0.0</td>\n",
       "      <td>486.109500</td>\n",
       "      <td>486.109500</td>\n",
       "      <td>0.0</td>\n",
       "    </tr>\n",
       "    <tr>\n",
       "      <th>2013-10-11</th>\n",
       "      <td>0.0</td>\n",
       "      <td>486.854222</td>\n",
       "      <td>486.854222</td>\n",
       "      <td>0.0</td>\n",
       "    </tr>\n",
       "    <tr>\n",
       "      <th>2013-10-14</th>\n",
       "      <td>0.0</td>\n",
       "      <td>487.772800</td>\n",
       "      <td>487.772800</td>\n",
       "      <td>0.0</td>\n",
       "    </tr>\n",
       "    <tr>\n",
       "      <th>2013-10-15</th>\n",
       "      <td>0.0</td>\n",
       "      <td>488.764364</td>\n",
       "      <td>488.764364</td>\n",
       "      <td>0.0</td>\n",
       "    </tr>\n",
       "    <tr>\n",
       "      <th>2013-10-16</th>\n",
       "      <td>0.0</td>\n",
       "      <td>489.793500</td>\n",
       "      <td>489.793500</td>\n",
       "      <td>0.0</td>\n",
       "    </tr>\n",
       "    <tr>\n",
       "      <th>2013-10-17</th>\n",
       "      <td>0.0</td>\n",
       "      <td>490.924769</td>\n",
       "      <td>490.924769</td>\n",
       "      <td>0.0</td>\n",
       "    </tr>\n",
       "    <tr>\n",
       "      <th>2013-10-18</th>\n",
       "      <td>0.0</td>\n",
       "      <td>492.208000</td>\n",
       "      <td>492.208000</td>\n",
       "      <td>0.0</td>\n",
       "    </tr>\n",
       "    <tr>\n",
       "      <th>2013-10-21</th>\n",
       "      <td>0.0</td>\n",
       "      <td>494.151600</td>\n",
       "      <td>494.151600</td>\n",
       "      <td>0.0</td>\n",
       "    </tr>\n",
       "    <tr>\n",
       "      <th>2013-10-22</th>\n",
       "      <td>0.0</td>\n",
       "      <td>495.758844</td>\n",
       "      <td>495.758844</td>\n",
       "      <td>0.0</td>\n",
       "    </tr>\n",
       "    <tr>\n",
       "      <th>2013-10-23</th>\n",
       "      <td>0.0</td>\n",
       "      <td>497.476559</td>\n",
       "      <td>497.476559</td>\n",
       "      <td>0.0</td>\n",
       "    </tr>\n",
       "    <tr>\n",
       "      <th>2013-10-24</th>\n",
       "      <td>0.0</td>\n",
       "      <td>499.389528</td>\n",
       "      <td>499.389528</td>\n",
       "      <td>0.0</td>\n",
       "    </tr>\n",
       "    <tr>\n",
       "      <th>2013-10-25</th>\n",
       "      <td>0.0</td>\n",
       "      <td>500.787868</td>\n",
       "      <td>500.787868</td>\n",
       "      <td>0.0</td>\n",
       "    </tr>\n",
       "    <tr>\n",
       "      <th>2013-10-28</th>\n",
       "      <td>0.0</td>\n",
       "      <td>502.242275</td>\n",
       "      <td>502.242275</td>\n",
       "      <td>0.0</td>\n",
       "    </tr>\n",
       "  </tbody>\n",
       "</table>\n",
       "</div>"
      ],
      "text/plain": [
       "            signal  short_mavg   long_mavg  positions\n",
       "Date                                                 \n",
       "2013-10-01     0.0  487.960000  487.960000        NaN\n",
       "2013-10-02     0.0  488.760000  488.760000        0.0\n",
       "2013-10-03     0.0  486.976667  486.976667        0.0\n",
       "2013-10-04     0.0  485.990000  485.990000        0.0\n",
       "2013-10-07     0.0  486.342000  486.342000        0.0\n",
       "2013-10-08     0.0  485.441667  485.441667        0.0\n",
       "2013-10-09     0.0  485.605429  485.605429        0.0\n",
       "2013-10-10     0.0  486.109500  486.109500        0.0\n",
       "2013-10-11     0.0  486.854222  486.854222        0.0\n",
       "2013-10-14     0.0  487.772800  487.772800        0.0\n",
       "2013-10-15     0.0  488.764364  488.764364        0.0\n",
       "2013-10-16     0.0  489.793500  489.793500        0.0\n",
       "2013-10-17     0.0  490.924769  490.924769        0.0\n",
       "2013-10-18     0.0  492.208000  492.208000        0.0\n",
       "2013-10-21     0.0  494.151600  494.151600        0.0\n",
       "2013-10-22     0.0  495.758844  495.758844        0.0\n",
       "2013-10-23     0.0  497.476559  497.476559        0.0\n",
       "2013-10-24     0.0  499.389528  499.389528        0.0\n",
       "2013-10-25     0.0  500.787868  500.787868        0.0\n",
       "2013-10-28     0.0  502.242275  502.242275        0.0"
      ]
     },
     "execution_count": 50,
     "metadata": {},
     "output_type": "execute_result"
    }
   ],
   "source": [
    "signals.head(20)"
   ]
  },
  {
   "cell_type": "code",
   "execution_count": 51,
   "metadata": {},
   "outputs": [
    {
     "data": {
      "image/png": "[encoded data removed]",
      "text/plain": [
       "<matplotlib.figure.Figure at 0xfd346d8>"
      ]
     },
     "metadata": {},
     "output_type": "display_data"
    }
   ],
   "source": [
    "fig = plt.figure()\n",
    "ax1 = fig.add_subplot(111,  ylabel='Price in $')\n",
    "\n",
    "# Plot the closing price\n",
    "aapl['Close'].plot(ax=ax1, color='r', lw=2.)\n",
    "\n",
    "# Plot the short and long moving averages\n",
    "signals[['short_mavg', 'long_mavg']].plot(ax=ax1, lw=2.)\n",
    "\n",
    "# Plot the buy signals\n",
    "ax1.plot(signals.loc[signals.positions == 1.0].index, \n",
    "         signals.short_mavg[signals.positions == 1.0],\n",
    "         '^', markersize=10, color='m')\n",
    "         \n",
    "# Plot the sell signals\n",
    "ax1.plot(signals.loc[signals.positions == -1.0].index, \n",
    "         signals.short_mavg[signals.positions == -1.0],\n",
    "         'v', markersize=10, color='k')\n",
    "         \n",
    "# Show the plot\n",
    "plt.show()"
   ]
  },
  {
   "cell_type": "markdown",
   "metadata": {},
   "source": [
    "The arrow pointing downwards indicates to sell and the arrow pointing upwards indicates to buy."
   ]
  },
  {
   "cell_type": "markdown",
   "metadata": {},
   "source": [
    "## Backtesting A Strategy"
   ]
  },
  {
   "cell_type": "markdown",
   "metadata": {},
   "source": [
    "### Implementation Of A Simple Backtester "
   ]
  },
  {
   "cell_type": "code",
   "execution_count": 54,
   "metadata": {},
   "outputs": [],
   "source": [
    "# Set the initial capital\n",
    "initial_capital= float(100000.0)\n",
    "\n",
    "# Create a DataFrame `positions`\n",
    "positions = pd.DataFrame(index=signals.index).fillna(0.0)\n",
    "\n",
    "# Buy a 100 shares\n",
    "positions['AAPL'] = 100*signals['signal']   \n",
    "  \n",
    "# Initialize the portfolio with value owned   \n",
    "portfolio = positions.multiply(aapl['Adj. Close'], axis=0)\n",
    "\n",
    "# Store the difference in shares owned \n",
    "pos_diff = positions.diff()\n",
    "\n",
    "# Add `holdings` to portfolio\n",
    "portfolio['holdings'] = (positions.multiply(aapl['Adj. Close'], axis=0)).sum(axis=1)\n",
    "\n",
    "# Add `cash` to portfolio\n",
    "portfolio['cash'] = initial_capital - (pos_diff.multiply(aapl['Adj. Close'], axis=0)).sum(axis=1).cumsum()   \n",
    "\n",
    "# Add `total` to portfolio\n",
    "portfolio['total'] = portfolio['cash'] + portfolio['holdings']\n",
    "\n",
    "# Add `returns` to portfolio\n",
    "portfolio['returns'] = portfolio['total'].pct_change()"
   ]
  },
  {
   "cell_type": "code",
   "execution_count": 55,
   "metadata": {},
   "outputs": [
    {
     "data": {
      "image/png": "[encoded data removed]",
      "text/plain": [
       "<matplotlib.figure.Figure at 0xf779cf8>"
      ]
     },
     "metadata": {},
     "output_type": "display_data"
    }
   ],
   "source": [
    "import matplotlib.pyplot as plt\n",
    "\n",
    "fig = plt.figure()\n",
    "\n",
    "ax1 = fig.add_subplot(111, ylabel='Portfolio value in $')\n",
    "\n",
    "# Plot the equity curve in dollars\n",
    "portfolio['total'].plot(ax=ax1, lw=2.)\n",
    "\n",
    "# Plot the \"buy\" trades against the equity curve\n",
    "ax1.plot(portfolio.loc[signals.positions == 1.0].index, \n",
    "         portfolio.total[signals.positions == 1.0],\n",
    "         '^', markersize=10, color='m')\n",
    "\n",
    "# Plot the \"sell\" trades against the equity curve\n",
    "ax1.plot(portfolio.loc[signals.positions == -1.0].index, \n",
    "         portfolio.total[signals.positions == -1.0],\n",
    "         'v', markersize=10, color='k')\n",
    "\n",
    "plt.show()"
   ]
  },
  {
   "cell_type": "markdown",
   "metadata": {},
   "source": [
    "## Evaluating Moving Average Crossover Strategy"
   ]
  },
  {
   "cell_type": "markdown",
   "metadata": {},
   "source": [
    "### Sharpe Ratio"
   ]
  },
  {
   "cell_type": "code",
   "execution_count": 56,
   "metadata": {},
   "outputs": [
    {
     "name": "stdout",
     "output_type": "stream",
     "text": [
      "0.7704026653519362\n"
     ]
    }
   ],
   "source": [
    "# Isolate the returns of your strategy\n",
    "returns = portfolio['returns']\n",
    "\n",
    "# annualized Sharpe ratio\n",
    "sharpe_ratio = np.sqrt(252) * (returns.mean() / returns.std())\n",
    "\n",
    "# Print the Sharpe ratio\n",
    "print(sharpe_ratio)"
   ]
  },
  {
   "cell_type": "markdown",
   "metadata": {},
   "source": [
    "The Sharpe ratio is the average return earned in excess of the risk-free rate per unit of volatility or total risk. Subtracting the risk-free rate from the mean return, the performance associated with risk-taking activities can be isolated.\n",
    "\n",
    "Investopedia https://www.investopedia.com/terms/s/sharperatio.asp#ixzz5Hle5VGTp \n"
   ]
  },
  {
   "cell_type": "markdown",
   "metadata": {},
   "source": [
    "### Maximum Drawdown"
   ]
  },
  {
   "cell_type": "code",
   "execution_count": 58,
   "metadata": {},
   "outputs": [
    {
     "data": {
      "image/png": "[encoded data removed]",
      "text/plain": [
       "<matplotlib.figure.Figure at 0xf177da0>"
      ]
     },
     "metadata": {},
     "output_type": "display_data"
    }
   ],
   "source": [
    "window = 252\n",
    "\n",
    "# Calculate the max drawdown in the past window days for each day\n",
    "rolling_max = aapl['Adj. Close'].rolling(window, min_periods=1).max()\n",
    "daily_drawdown = aapl['Adj. Close']/rolling_max - 1.0\n",
    "\n",
    "# Calculate the minimum (negative) daily drawdown\n",
    "max_daily_drawdown = daily_drawdown.rolling(window, min_periods=1).min()\n",
    "\n",
    "daily_drawdown.plot()\n",
    "max_daily_drawdown.plot()\n",
    "\n",
    "plt.show()"
   ]
  },
  {
   "cell_type": "markdown",
   "metadata": {},
   "source": [
    "### Compound Annual Growth Rate (CAGR)"
   ]
  },
  {
   "cell_type": "markdown",
   "metadata": {},
   "source": [
    "The compound annual growth rate (CAGR) is a useful measure of growth over multiple time periods. It can be thought of as the growth rate that gets you from the initial investment value to the ending investment value if you assume that the investment has been compounding over the time period."
   ]
  },
  {
   "cell_type": "code",
   "execution_count": 60,
   "metadata": {},
   "outputs": [
    {
     "name": "stdout",
     "output_type": "stream",
     "text": [
      "0.2541226804151253\n"
     ]
    }
   ],
   "source": [
    "# Get the number of days in `aapl`\n",
    "days = (aapl.index[-1] - aapl.index[0]).days\n",
    "\n",
    "# Calculate the CAGR \n",
    "cagr = ((((aapl['Adj. Close'][-1]) / aapl['Adj. Close'][1])) ** (365.0/days)) - 1\n",
    "print(cagr)"
   ]
  }
 ],
 "metadata": {
  "kernelspec": {
   "display_name": "Python 2",
   "language": "python",
   "name": "python2"
  },
  "language_info": {
   "codemirror_mode": {
    "name": "ipython",
    "version": 2
   },
   "file_extension": ".py",
   "mimetype": "text/x-python",
   "name": "python",
   "nbconvert_exporter": "python",
   "pygments_lexer": "ipython2",
   "version": "2.7.14"
  }
 },
 "nbformat": 4,
 "nbformat_minor": 2
}
